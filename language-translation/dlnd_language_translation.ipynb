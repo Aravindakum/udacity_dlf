{
 "cells": [
  {
   "cell_type": "markdown",
   "metadata": {
    "collapsed": true
   },
   "source": [
    "# Language Translation\n",
    "In this project, you’re going to take a peek into the realm of neural network machine translation.  You’ll be training a sequence to sequence model on a dataset of English and French sentences that can translate new sentences from English to French.\n",
    "## Get the Data\n",
    "Since translating the whole language of English to French will take lots of time to train, we have provided you with a small portion of the English corpus."
   ]
  },
  {
   "cell_type": "code",
   "execution_count": 1,
   "metadata": {
    "collapsed": true
   },
   "outputs": [],
   "source": [
    "\"\"\"\n",
    "DON'T MODIFY ANYTHING IN THIS CELL\n",
    "\"\"\"\n",
    "#from checkpoints import helper\n",
    "import helper\n",
    "import problem_unittests as tests\n",
    "\n",
    "source_path = 'data/small_vocab_en'\n",
    "target_path = 'data/small_vocab_fr'\n",
    "source_text = helper.load_data(source_path)\n",
    "target_text = helper.load_data(target_path)"
   ]
  },
  {
   "cell_type": "markdown",
   "metadata": {},
   "source": [
    "## Explore the Data\n",
    "Play around with view_sentence_range to view different parts of the data."
   ]
  },
  {
   "cell_type": "code",
   "execution_count": 2,
   "metadata": {},
   "outputs": [
    {
     "name": "stdout",
     "output_type": "stream",
     "text": [
      "Dataset Stats\n",
      "Roughly the number of unique words: 227\n",
      "Number of sentences: 137861\n",
      "Average number of words in a sentence: 13.225277634719028\n",
      "\n",
      "English sentences 0 to 10:\n",
      "new jersey is sometimes quiet during autumn , and it is snowy in april .\n",
      "the united states is usually chilly during july , and it is usually freezing in november .\n",
      "california is usually quiet during march , and it is usually hot in june .\n",
      "the united states is sometimes mild during june , and it is cold in september .\n",
      "your least liked fruit is the grape , but my least liked is the apple .\n",
      "his favorite fruit is the orange , but my favorite is the grape .\n",
      "paris is relaxing during december , but it is usually chilly in july .\n",
      "new jersey is busy during spring , and it is never hot in march .\n",
      "our least liked fruit is the lemon , but my least liked is the grape .\n",
      "the united states is sometimes busy during january , and it is sometimes warm in november .\n",
      "\n",
      "French sentences 0 to 10:\n",
      "new jersey est parfois calme pendant l' automne , et il est neigeux en avril .\n",
      "les états-unis est généralement froid en juillet , et il gèle habituellement en novembre .\n",
      "california est généralement calme en mars , et il est généralement chaud en juin .\n",
      "les états-unis est parfois légère en juin , et il fait froid en septembre .\n",
      "votre moins aimé fruit est le raisin , mais mon moins aimé est la pomme .\n",
      "son fruit préféré est l'orange , mais mon préféré est le raisin .\n",
      "paris est relaxant en décembre , mais il est généralement froid en juillet .\n",
      "new jersey est occupé au printemps , et il est jamais chaude en mars .\n",
      "notre fruit est moins aimé le citron , mais mon moins aimé est le raisin .\n",
      "les états-unis est parfois occupé en janvier , et il est parfois chaud en novembre .\n"
     ]
    }
   ],
   "source": [
    "view_sentence_range = (0, 10)\n",
    "\n",
    "\"\"\"\n",
    "DON'T MODIFY ANYTHING IN THIS CELL\n",
    "\"\"\"\n",
    "import numpy as np\n",
    "\n",
    "print('Dataset Stats')\n",
    "print('Roughly the number of unique words: {}'.format(len({word: None for word in source_text.split()})))\n",
    "\n",
    "sentences = source_text.split('\\n')\n",
    "word_counts = [len(sentence.split()) for sentence in sentences]\n",
    "print('Number of sentences: {}'.format(len(sentences)))\n",
    "print('Average number of words in a sentence: {}'.format(np.average(word_counts)))\n",
    "\n",
    "print()\n",
    "print('English sentences {} to {}:'.format(*view_sentence_range))\n",
    "print('\\n'.join(source_text.split('\\n')[view_sentence_range[0]:view_sentence_range[1]]))\n",
    "print()\n",
    "print('French sentences {} to {}:'.format(*view_sentence_range))\n",
    "print('\\n'.join(target_text.split('\\n')[view_sentence_range[0]:view_sentence_range[1]]))"
   ]
  },
  {
   "cell_type": "markdown",
   "metadata": {},
   "source": [
    "## Implement Preprocessing Function\n",
    "### Text to Word Ids\n",
    "As you did with other RNNs, you must turn the text into a number so the computer can understand it. In the function `text_to_ids()`, you'll turn `source_text` and `target_text` from words to ids.  However, you need to add the `<EOS>` word id at the end of `target_text`.  This will help the neural network predict when the sentence should end.\n",
    "\n",
    "You can get the `<EOS>` word id by doing:\n",
    "```python\n",
    "target_vocab_to_int['<EOS>']\n",
    "```\n",
    "You can get other word ids using `source_vocab_to_int` and `target_vocab_to_int`."
   ]
  },
  {
   "cell_type": "code",
   "execution_count": 3,
   "metadata": {},
   "outputs": [
    {
     "name": "stdout",
     "output_type": "stream",
     "text": [
      "Tests Passed\n"
     ]
    }
   ],
   "source": [
    "def text_to_ids(source_text, target_text, source_vocab_to_int, target_vocab_to_int):\n",
    "    \"\"\"\n",
    "    Convert source and target text to proper word ids\n",
    "    :param source_text: String that contains all the source text.\n",
    "    :param target_text: String that contains all the target text.\n",
    "    :param source_vocab_to_int: Dictionary to go from the source words to an id\n",
    "    :param target_vocab_to_int: Dictionary to go from the target words to an id\n",
    "    :return: A tuple of lists (source_id_text, target_id_text)\n",
    "    \"\"\"\n",
    "    # TODO: Implement Function\n",
    "    #print(source_text)\n",
    "    source_id_text = [[source_vocab_to_int[word] for word in sentence.split()]for sentence in source_text.split('\\n')]\n",
    "    #source_id_text=[source_vocab_to_int[word] for sentence in source_text.split('\\n') for word in sentence.split()]\n",
    "    target_id_text=[[target_vocab_to_int[word] for word in (sentence+' <EOS>').split()]for sentence in target_text.split('\\n')]\n",
    "    #target_id_text.append(target_vocab_to_int['<EOS>'])\n",
    "    return (source_id_text, target_id_text)\n",
    "\n",
    "\"\"\"\n",
    "DON'T MODIFY ANYTHING IN THIS CELL THAT IS BELOW THIS LINE\n",
    "\"\"\"\n",
    "tests.test_text_to_ids(text_to_ids)"
   ]
  },
  {
   "cell_type": "markdown",
   "metadata": {},
   "source": [
    "### Preprocess all the data and save it\n",
    "Running the code cell below will preprocess all the data and save it to file."
   ]
  },
  {
   "cell_type": "code",
   "execution_count": 4,
   "metadata": {
    "collapsed": true
   },
   "outputs": [],
   "source": [
    "\"\"\"\n",
    "DON'T MODIFY ANYTHING IN THIS CELL\n",
    "\"\"\"\n",
    "helper.preprocess_and_save_data(source_path, target_path, text_to_ids)"
   ]
  },
  {
   "cell_type": "markdown",
   "metadata": {},
   "source": [
    "# Check Point\n",
    "This is your first checkpoint. If you ever decide to come back to this notebook or have to restart the notebook, you can start from here. The preprocessed data has been saved to disk."
   ]
  },
  {
   "cell_type": "code",
   "execution_count": 5,
   "metadata": {
    "collapsed": true
   },
   "outputs": [],
   "source": [
    "\"\"\"\n",
    "DON'T MODIFY ANYTHING IN THIS CELL\n",
    "\"\"\"\n",
    "import numpy as np\n",
    "import helper\n",
    "import problem_unittests as tests\n",
    "\n",
    "(source_int_text, target_int_text), (source_vocab_to_int, target_vocab_to_int), _ = helper.load_preprocess()"
   ]
  },
  {
   "cell_type": "markdown",
   "metadata": {},
   "source": [
    "### Check the Version of TensorFlow and Access to GPU\n",
    "This will check to make sure you have the correct version of TensorFlow and access to a GPU"
   ]
  },
  {
   "cell_type": "code",
   "execution_count": 6,
   "metadata": {},
   "outputs": [
    {
     "name": "stdout",
     "output_type": "stream",
     "text": [
      "TensorFlow Version: 1.3.0\n",
      "Default GPU Device: /gpu:0\n"
     ]
    }
   ],
   "source": [
    "\"\"\"\n",
    "DON'T MODIFY ANYTHING IN THIS CELL\n",
    "\"\"\"\n",
    "from distutils.version import LooseVersion\n",
    "import warnings\n",
    "import tensorflow as tf\n",
    "from tensorflow.python.layers.core import Dense\n",
    "\n",
    "# Check TensorFlow Version\n",
    "assert LooseVersion(tf.__version__) >= LooseVersion('1.1'), 'Please use TensorFlow version 1.1 or newer'\n",
    "print('TensorFlow Version: {}'.format(tf.__version__))\n",
    "\n",
    "# Check for a GPU\n",
    "if not tf.test.gpu_device_name():\n",
    "    warnings.warn('No GPU found. Please use a GPU to train your neural network.')\n",
    "else:\n",
    "    print('Default GPU Device: {}'.format(tf.test.gpu_device_name()))"
   ]
  },
  {
   "cell_type": "markdown",
   "metadata": {},
   "source": [
    "## Build the Neural Network\n",
    "You'll build the components necessary to build a Sequence-to-Sequence model by implementing the following functions below:\n",
    "- `model_inputs`\n",
    "- `process_decoder_input`\n",
    "- `encoding_layer`\n",
    "- `decoding_layer_train`\n",
    "- `decoding_layer_infer`\n",
    "- `decoding_layer`\n",
    "- `seq2seq_model`\n",
    "\n",
    "### Input\n",
    "Implement the `model_inputs()` function to create TF Placeholders for the Neural Network. It should create the following placeholders:\n",
    "\n",
    "- Input text placeholder named \"input\" using the TF Placeholder name parameter with rank 2.\n",
    "- Targets placeholder with rank 2.\n",
    "- Learning rate placeholder with rank 0.\n",
    "- Keep probability placeholder named \"keep_prob\" using the TF Placeholder name parameter with rank 0.\n",
    "- Target sequence length placeholder named \"target_sequence_length\" with rank 1\n",
    "- Max target sequence length tensor named \"max_target_len\" getting its value from applying tf.reduce_max on the target_sequence_length placeholder. Rank 0.\n",
    "- Source sequence length placeholder named \"source_sequence_length\" with rank 1\n",
    "\n",
    "Return the placeholders in the following the tuple (input, targets, learning rate, keep probability, target sequence length, max target sequence length, source sequence length)"
   ]
  },
  {
   "cell_type": "code",
   "execution_count": 7,
   "metadata": {},
   "outputs": [
    {
     "name": "stdout",
     "output_type": "stream",
     "text": [
      "Tests Passed\n"
     ]
    }
   ],
   "source": [
    "def model_inputs():\n",
    "    \"\"\"\n",
    "    Create TF Placeholders for input, targets, learning rate, and lengths of source and target sequences.\n",
    "    :return: Tuple (input, targets, learning rate, keep probability, target sequence length,\n",
    "    max target sequence length, source sequence length)\n",
    "    \"\"\"\n",
    "    # TODO: Implement Function\n",
    "    input = tf.placeholder(tf.int32,[None,None],name='input')\n",
    "    target = tf.placeholder(tf.int32,[None,None],name='target')\n",
    "    lr = tf.placeholder(tf.float32,name='learning_rate',shape=())\n",
    "    keep_prob = tf.placeholder(tf.float32,name='keep_prob',shape=())\n",
    "    target_sequence_length = tf.placeholder(tf.int32,(None,),name='target_sequence_length')    \n",
    "    max_sequence_length = tf.reduce_max(target_sequence_length,name='max_target_len')\n",
    "    source_sequence_length = tf.placeholder(tf.int32,(None,),name='source_sequence_length')\n",
    "    \n",
    "    #return None, None, None, None, None, None, None\n",
    "    return (input,target,lr,keep_prob,target_sequence_length,max_sequence_length,source_sequence_length)\n",
    "\n",
    "\"\"\"\n",
    "DON'T MODIFY ANYTHING IN THIS CELL THAT IS BELOW THIS LINE\n",
    "\"\"\"\n",
    "tests.test_model_inputs(model_inputs)"
   ]
  },
  {
   "cell_type": "markdown",
   "metadata": {},
   "source": [
    "### Process Decoder Input\n",
    "Implement `process_decoder_input` by removing the last word id from each batch in `target_data` and concat the GO ID to the begining of each batch."
   ]
  },
  {
   "cell_type": "code",
   "execution_count": 8,
   "metadata": {},
   "outputs": [
    {
     "name": "stdout",
     "output_type": "stream",
     "text": [
      "Tests Passed\n"
     ]
    }
   ],
   "source": [
    "def process_decoder_input(target_data, target_vocab_to_int, batch_size):\n",
    "    \"\"\"\n",
    "    Preprocess target data for encoding\n",
    "    :param target_data: Target Placehoder\n",
    "    :param target_vocab_to_int: Dictionary to go from the target words to an id\n",
    "    :param batch_size: Batch Size\n",
    "    :return: Preprocessed target data\n",
    "    \"\"\"\n",
    "    # TODO: Implement Function\n",
    "    ending = tf.strided_slice(target_data,[0,0],[batch_size,-1],[1,1])\n",
    "    dec_input = tf.concat([tf.fill([batch_size,1],target_vocab_to_int['<GO>']),ending],1)\n",
    "\n",
    "    return dec_input\n",
    "\n",
    "\"\"\"\n",
    "DON'T MODIFY ANYTHING IN THIS CELL THAT IS BELOW THIS LINE\n",
    "\"\"\"\n",
    "tests.test_process_encoding_input(process_decoder_input)"
   ]
  },
  {
   "cell_type": "markdown",
   "metadata": {},
   "source": [
    "### Encoding\n",
    "Implement `encoding_layer()` to create a Encoder RNN layer:\n",
    " * Embed the encoder input using [`tf.contrib.layers.embed_sequence`](https://www.tensorflow.org/api_docs/python/tf/contrib/layers/embed_sequence)\n",
    " * Construct a [stacked](https://github.com/tensorflow/tensorflow/blob/6947f65a374ebf29e74bb71e36fd82760056d82c/tensorflow/docs_src/tutorials/recurrent.md#stacking-multiple-lstms) [`tf.contrib.rnn.LSTMCell`](https://www.tensorflow.org/api_docs/python/tf/contrib/rnn/LSTMCell) wrapped in a [`tf.contrib.rnn.DropoutWrapper`](https://www.tensorflow.org/api_docs/python/tf/contrib/rnn/DropoutWrapper)\n",
    " * Pass cell and embedded input to [`tf.nn.dynamic_rnn()`](https://www.tensorflow.org/api_docs/python/tf/nn/dynamic_rnn)"
   ]
  },
  {
   "cell_type": "code",
   "execution_count": 9,
   "metadata": {
    "scrolled": false
   },
   "outputs": [
    {
     "name": "stdout",
     "output_type": "stream",
     "text": [
      "Tests Passed\n"
     ]
    }
   ],
   "source": [
    "from imp import reload\n",
    "reload(tests)\n",
    "\n",
    "def encoding_layer(rnn_inputs, rnn_size, num_layers, keep_prob, \n",
    "                   source_sequence_length, source_vocab_size, \n",
    "                   encoding_embedding_size):\n",
    "    \"\"\"\n",
    "    Create encoding layer\n",
    "    :param rnn_inputs: Inputs for the RNN\n",
    "    :param rnn_size: RNN Size\n",
    "    :param num_layers: Number of layers\n",
    "    :param keep_prob: Dropout keep probability\n",
    "    :param source_sequence_length: a list of the lengths of each sequence in the batch\n",
    "    :param source_vocab_size: vocabulary size of source data\n",
    "    :param encoding_embedding_size: embedding size of source data\n",
    "    :return: tuple (RNN output, RNN state)\n",
    "    \"\"\"\n",
    "    # TODO: Implement Function\n",
    "    enc_embedded_input = tf.contrib.layers.embed_sequence(rnn_inputs,vocab_size=source_vocab_size,\n",
    "                                                          embed_dim=encoding_embedding_size)\n",
    "    #LSTM Cell\n",
    "    def makecell(rnn_size):\n",
    "        enc_cell = tf.contrib.rnn.LSTMCell(rnn_size,\n",
    "                                          initializer=tf.random_normal_initializer(-0.1,0.1,seed=2))\n",
    "        return enc_cell\n",
    "    \n",
    "    enc_cell = tf.contrib.rnn.MultiRNNCell([makecell(rnn_size) for _ in range(num_layers)])\n",
    "    \n",
    "    enc_output,enc_state = tf.nn.dynamic_rnn(enc_cell,enc_embedded_input,sequence_length=source_sequence_length\n",
    "                                             ,dtype=tf.float32)\n",
    "        \n",
    "    return enc_output, enc_state\n",
    "\n",
    "\"\"\"\n",
    "DON'T MODIFY ANYTHING IN THIS CELL THAT IS BELOW THIS LINE\n",
    "\"\"\"\n",
    "tests.test_encoding_layer(encoding_layer)"
   ]
  },
  {
   "cell_type": "markdown",
   "metadata": {},
   "source": [
    "### Decoding - Training\n",
    "Create a training decoding layer:\n",
    "* Create a [`tf.contrib.seq2seq.TrainingHelper`](https://www.tensorflow.org/api_docs/python/tf/contrib/seq2seq/TrainingHelper) \n",
    "* Create a [`tf.contrib.seq2seq.BasicDecoder`](https://www.tensorflow.org/api_docs/python/tf/contrib/seq2seq/BasicDecoder)\n",
    "* Obtain the decoder outputs from [`tf.contrib.seq2seq.dynamic_decode`](https://www.tensorflow.org/api_docs/python/tf/contrib/seq2seq/dynamic_decode)"
   ]
  },
  {
   "cell_type": "code",
   "execution_count": 10,
   "metadata": {},
   "outputs": [
    {
     "name": "stdout",
     "output_type": "stream",
     "text": [
      "Tests Passed\n"
     ]
    }
   ],
   "source": [
    "\n",
    "def decoding_layer_train(encoder_state, dec_cell, dec_embed_input, \n",
    "                         target_sequence_length, max_summary_length, \n",
    "                         output_layer, keep_prob):\n",
    "    \"\"\"\n",
    "    Create a decoding layer for training\n",
    "    :param encoder_state: Encoder State\n",
    "    :param dec_cell: Decoder RNN Cell\n",
    "    :param dec_embed_input: Decoder embedded input\n",
    "    :param target_sequence_length: The lengths of each sequence in the target batch\n",
    "    :param max_summary_length: The length of the longest sequence in the batch\n",
    "    :param output_layer: Function to apply the output layer\n",
    "    :param keep_prob: Dropout keep probability\n",
    "    :return: BasicDecoderOutput containing training logits and sample_id\n",
    "    \"\"\"\n",
    "    # TODO: Implement Function\n",
    "    training_helper = tf.contrib.seq2seq.TrainingHelper(inputs=dec_embed_input,\n",
    "                                                        sequence_length=target_sequence_length,\n",
    "                                                        time_major=False,\n",
    "                                                        name='training_helper')\n",
    "    training_decoder = tf.contrib.seq2seq.BasicDecoder(dec_cell,training_helper,\n",
    "                                                       encoder_state,output_layer=output_layer)\n",
    "    training_decoder_output = tf.contrib.seq2seq.dynamic_decode(training_decoder,impute_finished=True,\n",
    "                                                                maximum_iterations=max_summary_length)[0]\n",
    "    \n",
    "    return training_decoder_output\n",
    "\n",
    "\n",
    "\n",
    "\"\"\"\n",
    "DON'T MODIFY ANYTHING IN THIS CELL THAT IS BELOW THIS LINE\n",
    "\"\"\"\n",
    "tests.test_decoding_layer_train(decoding_layer_train)"
   ]
  },
  {
   "cell_type": "markdown",
   "metadata": {},
   "source": [
    "### Decoding - Inference\n",
    "Create inference decoder:\n",
    "* Create a [`tf.contrib.seq2seq.GreedyEmbeddingHelper`](https://www.tensorflow.org/api_docs/python/tf/contrib/seq2seq/GreedyEmbeddingHelper)\n",
    "* Create a [`tf.contrib.seq2seq.BasicDecoder`](https://www.tensorflow.org/api_docs/python/tf/contrib/seq2seq/BasicDecoder)\n",
    "* Obtain the decoder outputs from [`tf.contrib.seq2seq.dynamic_decode`](https://www.tensorflow.org/api_docs/python/tf/contrib/seq2seq/dynamic_decode)"
   ]
  },
  {
   "cell_type": "code",
   "execution_count": 11,
   "metadata": {
    "scrolled": true
   },
   "outputs": [
    {
     "name": "stdout",
     "output_type": "stream",
     "text": [
      "Tests Passed\n"
     ]
    }
   ],
   "source": [
    "def decoding_layer_infer(encoder_state, dec_cell, dec_embeddings, start_of_sequence_id,\n",
    "                         end_of_sequence_id, max_target_sequence_length,\n",
    "                         vocab_size, output_layer, batch_size, keep_prob):\n",
    "    \"\"\"\n",
    "    Create a decoding layer for inference\n",
    "    :param encoder_state: Encoder state\n",
    "    :param dec_cell: Decoder RNN Cell\n",
    "    :param dec_embeddings: Decoder embeddings\n",
    "    :param start_of_sequence_id: GO ID\n",
    "    :param end_of_sequence_id: EOS Id\n",
    "    :param max_target_sequence_length: Maximum length of target sequences\n",
    "    :param vocab_size: Size of decoder/target vocabulary\n",
    "    :param decoding_scope: TenorFlow Variable Scope for decoding\n",
    "    :param output_layer: Function to apply the output layer\n",
    "    :param batch_size: Batch size\n",
    "    :param keep_prob: Dropout keep probability\n",
    "    :return: BasicDecoderOutput containing inference logits and sample_id\n",
    "    \"\"\"\n",
    "    # TODO: Implement Function\n",
    "    #print(start_of_sequence_id)\n",
    "    #print(dec_embeddings)\n",
    "    start_tokens = tf.tile(tf.constant([start_of_sequence_id],dtype=tf.int32),[batch_size],name='start_tokens')\n",
    "    \n",
    "    inference_helper = tf.contrib.seq2seq.GreedyEmbeddingHelper(dec_embeddings,start_tokens=start_tokens,end_token=end_of_sequence_id)\n",
    "    \n",
    "    basic_decoder = tf.contrib.seq2seq.BasicDecoder(dec_cell,inference_helper,encoder_state,output_layer=output_layer,)\n",
    "    \n",
    "    inference_decoder_output = tf.contrib.seq2seq.dynamic_decode(basic_decoder,\n",
    "                                                                impute_finished=True,\n",
    "                                                                maximum_iterations=max_target_sequence_length)[0]\n",
    "    \n",
    "    return inference_decoder_output\n",
    "\n",
    "\n",
    "\n",
    "\"\"\"\n",
    "DON'T MODIFY ANYTHING IN THIS CELL THAT IS BELOW THIS LINE\n",
    "\"\"\"\n",
    "tests.test_decoding_layer_infer(decoding_layer_infer)"
   ]
  },
  {
   "cell_type": "markdown",
   "metadata": {},
   "source": [
    "### Build the Decoding Layer\n",
    "Implement `decoding_layer()` to create a Decoder RNN layer.\n",
    "\n",
    "* Embed the target sequences\n",
    "* Construct the decoder LSTM cell (just like you constructed the encoder cell above)\n",
    "* Create an output layer to map the outputs of the decoder to the elements of our vocabulary\n",
    "* Use the your `decoding_layer_train(encoder_state, dec_cell, dec_embed_input, target_sequence_length, max_target_sequence_length, output_layer, keep_prob)` function to get the training logits.\n",
    "* Use your `decoding_layer_infer(encoder_state, dec_cell, dec_embeddings, start_of_sequence_id, end_of_sequence_id, max_target_sequence_length, vocab_size, output_layer, batch_size, keep_prob)` function to get the inference logits.\n",
    "\n",
    "Note: You'll need to use [tf.variable_scope](https://www.tensorflow.org/api_docs/python/tf/variable_scope) to share variables between training and inference."
   ]
  },
  {
   "cell_type": "code",
   "execution_count": 12,
   "metadata": {},
   "outputs": [
    {
     "name": "stdout",
     "output_type": "stream",
     "text": [
      "Tests Passed\n"
     ]
    }
   ],
   "source": [
    "def decoding_layer(dec_input, encoder_state,\n",
    "                   target_sequence_length, max_target_sequence_length,\n",
    "                   rnn_size,\n",
    "                   num_layers, target_vocab_to_int, target_vocab_size,\n",
    "                   batch_size, keep_prob, decoding_embedding_size):\n",
    "    \"\"\"\n",
    "    Create decoding layer\n",
    "    :param dec_input: Decoder input\n",
    "    :param encoder_state: Encoder state\n",
    "    :param target_sequence_length: The lengths of each sequence in the target batch\n",
    "    :param max_target_sequence_length: Maximum length of target sequences\n",
    "    :param rnn_size: RNN Size\n",
    "    :param num_layers: Number of layers\n",
    "    :param target_vocab_to_int: Dictionary to go from the target words to an id\n",
    "    :param target_vocab_size: Size of target vocabulary\n",
    "    :param batch_size: The size of the batch\n",
    "    :param keep_prob: Dropout keep probability\n",
    "    :param decoding_embedding_size: Decoding embedding size\n",
    "    :return: Tuple of (Training BasicDecoderOutput, Inference BasicDecoderOutput)\n",
    "    \"\"\"\n",
    "    #print(dec_input)\n",
    "    # TODO: Implement Function\n",
    "    dec_embeddings = tf.Variable(tf.random_uniform([target_vocab_size,decoding_embedding_size]))\n",
    "    dec_embedded_input = tf.nn.embedding_lookup(dec_embeddings,dec_input)\n",
    "    #dec_embedded_input = tf.contrib.layers.embed_sequence(dec_input,vocab_size=target_vocab_size,\n",
    "    #                                                      embed_dim=decoding_embedding_size)\n",
    "    #print(dec_embedded_input)\n",
    "    #LSTM Cell\n",
    "    def makecell(rnn_size):\n",
    "        dec_cell = tf.contrib.rnn.LSTMCell(rnn_size,\n",
    "                                          initializer=tf.random_normal_initializer(-0.1,0.1,seed=2))\n",
    "        return dec_cell\n",
    "    dec_cell = tf.contrib.rnn.MultiRNNCell([makecell(rnn_size) for _ in range(num_layers)])\n",
    "    \n",
    "    #dec_output,dec_state = tf.nn.dynamic_rnn(dec_cell,enc_embedded_output,sequence_length=source_sequence_length\n",
    "    #                                         ,dtype=tf.float32)\n",
    "    output_layer = Dense(target_vocab_size,kernel_initializer=tf.random_normal_initializer(mean=0.0,stddev=0.1))\n",
    "    \n",
    "    with tf.variable_scope('decode'):\n",
    "        training_basic_decoder_output = decoding_layer_train(encoder_state=encoder_state,dec_cell=dec_cell,\n",
    "                                                         dec_embed_input=dec_embedded_input,target_sequence_length=target_sequence_length,\n",
    "                                                        max_summary_length=max_target_sequence_length,output_layer=output_layer,keep_prob=keep_prob)\n",
    "    start_sequence_id = target_vocab_to_int['<GO>']\n",
    "    #print(start_sequence_id)\n",
    "    \n",
    "    end_sequence_id = target_vocab_to_int['<EOS>']\n",
    "    \n",
    "    with tf.variable_scope('decode',reuse=True):\n",
    "        inference_basic_decoder_output = decoding_layer_infer(encoder_state,dec_cell,dec_embeddings,start_sequence_id,end_sequence_id,max_target_sequence_length,target_vocab_size,output_layer,batch_size,keep_prob)\n",
    "    return training_basic_decoder_output, inference_basic_decoder_output\n",
    "\n",
    "\n",
    "\n",
    "\"\"\"\n",
    "DON'T MODIFY ANYTHING IN THIS CELL THAT IS BELOW THIS LINE\n",
    "\"\"\"\n",
    "tests.test_decoding_layer(decoding_layer)"
   ]
  },
  {
   "cell_type": "markdown",
   "metadata": {},
   "source": [
    "### Build the Neural Network\n",
    "Apply the functions you implemented above to:\n",
    "\n",
    "- Encode the input using your `encoding_layer(rnn_inputs, rnn_size, num_layers, keep_prob,  source_sequence_length, source_vocab_size, encoding_embedding_size)`.\n",
    "- Process target data using your `process_decoder_input(target_data, target_vocab_to_int, batch_size)` function.\n",
    "- Decode the encoded input using your `decoding_layer(dec_input, enc_state, target_sequence_length, max_target_sentence_length, rnn_size, num_layers, target_vocab_to_int, target_vocab_size, batch_size, keep_prob, dec_embedding_size)` function."
   ]
  },
  {
   "cell_type": "code",
   "execution_count": 13,
   "metadata": {},
   "outputs": [
    {
     "name": "stdout",
     "output_type": "stream",
     "text": [
      "Tests Passed\n"
     ]
    }
   ],
   "source": [
    "def seq2seq_model(input_data, target_data, keep_prob, batch_size,\n",
    "                  source_sequence_length, target_sequence_length,\n",
    "                  max_target_sentence_length,\n",
    "                  source_vocab_size, target_vocab_size,\n",
    "                  enc_embedding_size, dec_embedding_size,\n",
    "                  rnn_size, num_layers, target_vocab_to_int):\n",
    "    \"\"\"\n",
    "    Build the Sequence-to-Sequence part of the neural network\n",
    "    :param input_data: Input placeholder\n",
    "    :param target_data: Target placeholder\n",
    "    :param keep_prob: Dropout keep probability placeholder\n",
    "    :param batch_size: Batch Size\n",
    "    :param source_sequence_length: Sequence Lengths of source sequences in the batch\n",
    "    :param target_sequence_length: Sequence Lengths of target sequences in the batch\n",
    "    :param source_vocab_size: Source vocabulary size\n",
    "    :param target_vocab_size: Target vocabulary size\n",
    "    :param enc_embedding_size: Decoder embedding size\n",
    "    :param dec_embedding_size: Encoder embedding size\n",
    "    :param rnn_size: RNN Size\n",
    "    :param num_layers: Number of layers\n",
    "    :param target_vocab_to_int: Dictionary to go from the target words to an id\n",
    "    :return: Tuple of (Training BasicDecoderOutput, Inference BasicDecoderOutput)\n",
    "    \"\"\"\n",
    "    # TODO: Implement Function\n",
    "    _,enc_state = encoding_layer(input_data,rnn_size,num_layers,keep_prob,source_sequence_length,\n",
    "                                 source_vocab_size,enc_embedding_size)\n",
    "    \n",
    "    dec_input = process_decoder_input(target_data,target_vocab_to_int,batch_size)\n",
    "    \n",
    "    training_basic_decoder_out,inference_basic_decider_out = decoding_layer(dec_input,enc_state,target_sequence_length,max_target_sentence_length,rnn_size,num_layers,target_vocab_to_int,target_vocab_size,batch_size,keep_prob,dec_embedding_size)\n",
    "    return training_basic_decoder_out,inference_basic_decider_out\n",
    "\n",
    "\n",
    "\"\"\"\n",
    "DON'T MODIFY ANYTHING IN THIS CELL THAT IS BELOW THIS LINE\n",
    "\"\"\"\n",
    "tests.test_seq2seq_model(seq2seq_model)"
   ]
  },
  {
   "cell_type": "markdown",
   "metadata": {},
   "source": [
    "## Neural Network Training\n",
    "### Hyperparameters\n",
    "Tune the following parameters:\n",
    "\n",
    "- Set `epochs` to the number of epochs.\n",
    "- Set `batch_size` to the batch size.\n",
    "- Set `rnn_size` to the size of the RNNs.\n",
    "- Set `num_layers` to the number of layers.\n",
    "- Set `encoding_embedding_size` to the size of the embedding for the encoder.\n",
    "- Set `decoding_embedding_size` to the size of the embedding for the decoder.\n",
    "- Set `learning_rate` to the learning rate.\n",
    "- Set `keep_probability` to the Dropout keep probability\n",
    "- Set `display_step` to state how many steps between each debug output statement"
   ]
  },
  {
   "cell_type": "code",
   "execution_count": 22,
   "metadata": {
    "collapsed": true
   },
   "outputs": [],
   "source": [
    "# Number of Epochs\n",
    "epochs = 25\n",
    "# Batch Size\n",
    "batch_size = 512\n",
    "# RNN Size\n",
    "rnn_size = 512\n",
    "# Number of Layers\n",
    "num_layers = 3\n",
    "# Embedding Size\n",
    "encoding_embedding_size = 256\n",
    "decoding_embedding_size = 256\n",
    "# Learning Rate\n",
    "learning_rate = 0.01\n",
    "# Dropout Keep Probability\n",
    "keep_probability = 0.7\n",
    "display_step = 50"
   ]
  },
  {
   "cell_type": "markdown",
   "metadata": {},
   "source": [
    "### Build the Graph\n",
    "Build the graph using the neural network you implemented."
   ]
  },
  {
   "cell_type": "code",
   "execution_count": 23,
   "metadata": {
    "collapsed": true
   },
   "outputs": [],
   "source": [
    "\"\"\"\n",
    "DON'T MODIFY ANYTHING IN THIS CELL\n",
    "\"\"\"\n",
    "save_path = 'checkpoints/dev'\n",
    "(source_int_text, target_int_text), (source_vocab_to_int, target_vocab_to_int), _ = helper.load_preprocess()\n",
    "max_target_sentence_length = max([len(sentence) for sentence in source_int_text])\n",
    "\n",
    "train_graph = tf.Graph()\n",
    "with train_graph.as_default():\n",
    "    input_data, targets, lr, keep_prob, target_sequence_length, max_target_sequence_length, source_sequence_length = model_inputs()\n",
    "\n",
    "    #sequence_length = tf.placeholder_with_default(max_target_sentence_length, None, name='sequence_length')\n",
    "    input_shape = tf.shape(input_data)\n",
    "\n",
    "    train_logits, inference_logits = seq2seq_model(tf.reverse(input_data, [-1]),\n",
    "                                                   targets,\n",
    "                                                   keep_prob,\n",
    "                                                   batch_size,\n",
    "                                                   source_sequence_length,\n",
    "                                                   target_sequence_length,\n",
    "                                                   max_target_sequence_length,\n",
    "                                                   len(source_vocab_to_int),\n",
    "                                                   len(target_vocab_to_int),\n",
    "                                                   encoding_embedding_size,\n",
    "                                                   decoding_embedding_size,\n",
    "                                                   rnn_size,\n",
    "                                                   num_layers,\n",
    "                                                   target_vocab_to_int)\n",
    "\n",
    "\n",
    "    training_logits = tf.identity(train_logits.rnn_output, name='logits')\n",
    "    inference_logits = tf.identity(inference_logits.sample_id, name='predictions')\n",
    "\n",
    "    masks = tf.sequence_mask(target_sequence_length, max_target_sequence_length, dtype=tf.float32, name='masks')\n",
    "\n",
    "    with tf.name_scope(\"optimization\"):\n",
    "        # Loss function\n",
    "        cost = tf.contrib.seq2seq.sequence_loss(\n",
    "            training_logits,\n",
    "            targets,\n",
    "            masks)\n",
    "\n",
    "        # Optimizer\n",
    "        optimizer = tf.train.AdamOptimizer(lr)\n",
    "\n",
    "        # Gradient Clipping\n",
    "        gradients = optimizer.compute_gradients(cost)\n",
    "        capped_gradients = [(tf.clip_by_value(grad, -1., 1.), var) for grad, var in gradients if grad is not None]\n",
    "        train_op = optimizer.apply_gradients(capped_gradients)\n"
   ]
  },
  {
   "cell_type": "markdown",
   "metadata": {},
   "source": [
    "Batch and pad the source and target sequences"
   ]
  },
  {
   "cell_type": "code",
   "execution_count": 24,
   "metadata": {
    "collapsed": true
   },
   "outputs": [],
   "source": [
    "\"\"\"\n",
    "DON'T MODIFY ANYTHING IN THIS CELL\n",
    "\"\"\"\n",
    "def pad_sentence_batch(sentence_batch, pad_int):\n",
    "    \"\"\"Pad sentences with <PAD> so that each sentence of a batch has the same length\"\"\"\n",
    "    max_sentence = max([len(sentence) for sentence in sentence_batch])\n",
    "    return [sentence + [pad_int] * (max_sentence - len(sentence)) for sentence in sentence_batch]\n",
    "\n",
    "\n",
    "def get_batches(sources, targets, batch_size, source_pad_int, target_pad_int):\n",
    "    \"\"\"Batch targets, sources, and the lengths of their sentences together\"\"\"\n",
    "    for batch_i in range(0, len(sources)//batch_size):\n",
    "        start_i = batch_i * batch_size\n",
    "\n",
    "        # Slice the right amount for the batch\n",
    "        sources_batch = sources[start_i:start_i + batch_size]\n",
    "        targets_batch = targets[start_i:start_i + batch_size]\n",
    "\n",
    "        # Pad\n",
    "        pad_sources_batch = np.array(pad_sentence_batch(sources_batch, source_pad_int))\n",
    "        pad_targets_batch = np.array(pad_sentence_batch(targets_batch, target_pad_int))\n",
    "\n",
    "        # Need the lengths for the _lengths parameters\n",
    "        pad_targets_lengths = []\n",
    "        for target in pad_targets_batch:\n",
    "            pad_targets_lengths.append(len(target))\n",
    "\n",
    "        pad_source_lengths = []\n",
    "        for source in pad_sources_batch:\n",
    "            pad_source_lengths.append(len(source))\n",
    "\n",
    "        yield pad_sources_batch, pad_targets_batch, pad_source_lengths, pad_targets_lengths\n"
   ]
  },
  {
   "cell_type": "markdown",
   "metadata": {},
   "source": [
    "### Train\n",
    "Train the neural network on the preprocessed data. If you have a hard time getting a good loss, check the forms to see if anyone is having the same problem."
   ]
  },
  {
   "cell_type": "code",
   "execution_count": 25,
   "metadata": {
    "scrolled": true
   },
   "outputs": [
    {
     "name": "stdout",
     "output_type": "stream",
     "text": [
      "Epoch   0 Batch   50/269 - Train Accuracy: 0.2680, Validation Accuracy: 0.3296, Loss: 3.9006\n",
      "Epoch   0 Batch  100/269 - Train Accuracy: 0.3497, Validation Accuracy: 0.3619, Loss: 3.0529\n",
      "Epoch   0 Batch  150/269 - Train Accuracy: 0.4019, Validation Accuracy: 0.4235, Loss: 2.4814\n",
      "Epoch   0 Batch  200/269 - Train Accuracy: 0.4271, Validation Accuracy: 0.4679, Loss: 2.2987\n",
      "Epoch   0 Batch  250/269 - Train Accuracy: 0.4839, Validation Accuracy: 0.5198, Loss: 2.0017\n",
      "Epoch   1 Batch   50/269 - Train Accuracy: 0.5308, Validation Accuracy: 0.5613, Loss: 1.7195\n",
      "Epoch   1 Batch  100/269 - Train Accuracy: 0.6030, Validation Accuracy: 0.6026, Loss: 1.4024\n",
      "Epoch   1 Batch  150/269 - Train Accuracy: 0.6112, Validation Accuracy: 0.6166, Loss: 1.3384\n",
      "Epoch   1 Batch  200/269 - Train Accuracy: 0.6116, Validation Accuracy: 0.6264, Loss: 1.2801\n",
      "Epoch   1 Batch  250/269 - Train Accuracy: 0.6223, Validation Accuracy: 0.6185, Loss: 1.2470\n",
      "Epoch   2 Batch   50/269 - Train Accuracy: 0.6168, Validation Accuracy: 0.6313, Loss: 1.2797\n",
      "Epoch   2 Batch  100/269 - Train Accuracy: 0.6513, Validation Accuracy: 0.6437, Loss: 1.1565\n",
      "Epoch   2 Batch  150/269 - Train Accuracy: 0.6410, Validation Accuracy: 0.6433, Loss: 1.1476\n",
      "Epoch   2 Batch  200/269 - Train Accuracy: 0.6341, Validation Accuracy: 0.6460, Loss: 1.1479\n",
      "Epoch   2 Batch  250/269 - Train Accuracy: 0.6524, Validation Accuracy: 0.6539, Loss: 1.0784\n",
      "Epoch   3 Batch   50/269 - Train Accuracy: 0.6394, Validation Accuracy: 0.6539, Loss: 1.1537\n",
      "Epoch   3 Batch  100/269 - Train Accuracy: 0.6701, Validation Accuracy: 0.6637, Loss: 1.0526\n",
      "Epoch   3 Batch  150/269 - Train Accuracy: 0.6630, Validation Accuracy: 0.6672, Loss: 1.0453\n",
      "Epoch   3 Batch  200/269 - Train Accuracy: 0.6602, Validation Accuracy: 0.6705, Loss: 1.0419\n",
      "Epoch   3 Batch  250/269 - Train Accuracy: 0.6702, Validation Accuracy: 0.6734, Loss: 1.0062\n",
      "Epoch   4 Batch   50/269 - Train Accuracy: 0.6552, Validation Accuracy: 0.6697, Loss: 1.0714\n",
      "Epoch   4 Batch  100/269 - Train Accuracy: 0.6882, Validation Accuracy: 0.6742, Loss: 0.9828\n",
      "Epoch   4 Batch  150/269 - Train Accuracy: 0.6703, Validation Accuracy: 0.6754, Loss: 1.0399\n",
      "Epoch   4 Batch  200/269 - Train Accuracy: 0.6635, Validation Accuracy: 0.6746, Loss: 1.0237\n",
      "Epoch   4 Batch  250/269 - Train Accuracy: 0.6763, Validation Accuracy: 0.6773, Loss: 1.0165\n",
      "Epoch   5 Batch   50/269 - Train Accuracy: 0.6595, Validation Accuracy: 0.6796, Loss: 1.0650\n",
      "Epoch   5 Batch  100/269 - Train Accuracy: 0.6968, Validation Accuracy: 0.6800, Loss: 0.9533\n",
      "Epoch   5 Batch  150/269 - Train Accuracy: 0.6868, Validation Accuracy: 0.6875, Loss: 0.9786\n",
      "Epoch   5 Batch  200/269 - Train Accuracy: 0.6710, Validation Accuracy: 0.6880, Loss: 1.0010\n",
      "Epoch   5 Batch  250/269 - Train Accuracy: 0.6881, Validation Accuracy: 0.6829, Loss: 0.9919\n",
      "Epoch   6 Batch   50/269 - Train Accuracy: 0.6382, Validation Accuracy: 0.6482, Loss: 1.1896\n",
      "Epoch   6 Batch  100/269 - Train Accuracy: 0.6948, Validation Accuracy: 0.6698, Loss: 0.9815\n",
      "Epoch   6 Batch  150/269 - Train Accuracy: 0.6849, Validation Accuracy: 0.6857, Loss: 0.9794\n",
      "Epoch   6 Batch  200/269 - Train Accuracy: 0.6859, Validation Accuracy: 0.6937, Loss: 0.9795\n",
      "Epoch   6 Batch  250/269 - Train Accuracy: 0.7002, Validation Accuracy: 0.7002, Loss: 0.9153\n",
      "Epoch   7 Batch   50/269 - Train Accuracy: 0.6998, Validation Accuracy: 0.7103, Loss: 0.9232\n",
      "Epoch   7 Batch  100/269 - Train Accuracy: 0.7224, Validation Accuracy: 0.7028, Loss: 0.8564\n",
      "Epoch   7 Batch  150/269 - Train Accuracy: 0.7064, Validation Accuracy: 0.7124, Loss: 0.8792\n",
      "Epoch   7 Batch  200/269 - Train Accuracy: 0.7070, Validation Accuracy: 0.7148, Loss: 0.8927\n",
      "Epoch   7 Batch  250/269 - Train Accuracy: 0.6984, Validation Accuracy: 0.6854, Loss: 0.9500\n",
      "Epoch   8 Batch   50/269 - Train Accuracy: 0.5803, Validation Accuracy: 0.5924, Loss: 1.4586\n",
      "Epoch   8 Batch  100/269 - Train Accuracy: 0.6540, Validation Accuracy: 0.6499, Loss: 1.1326\n",
      "Epoch   8 Batch  150/269 - Train Accuracy: 0.6469, Validation Accuracy: 0.6608, Loss: 1.1219\n",
      "Epoch   8 Batch  200/269 - Train Accuracy: 0.6548, Validation Accuracy: 0.6656, Loss: 1.0926\n",
      "Epoch   8 Batch  250/269 - Train Accuracy: 0.6604, Validation Accuracy: 0.6752, Loss: 1.0355\n",
      "Epoch   9 Batch   50/269 - Train Accuracy: 0.6625, Validation Accuracy: 0.6859, Loss: 1.0504\n",
      "Epoch   9 Batch  100/269 - Train Accuracy: 0.7089, Validation Accuracy: 0.6913, Loss: 0.9206\n",
      "Epoch   9 Batch  150/269 - Train Accuracy: 0.6882, Validation Accuracy: 0.6954, Loss: 0.9547\n",
      "Epoch   9 Batch  200/269 - Train Accuracy: 0.6844, Validation Accuracy: 0.6928, Loss: 0.9676\n",
      "Epoch   9 Batch  250/269 - Train Accuracy: 0.7073, Validation Accuracy: 0.7026, Loss: 0.9066\n",
      "Epoch  10 Batch   50/269 - Train Accuracy: 0.6913, Validation Accuracy: 0.7126, Loss: 0.9255\n",
      "Epoch  10 Batch  100/269 - Train Accuracy: 0.7268, Validation Accuracy: 0.7050, Loss: 0.8361\n",
      "Epoch  10 Batch  150/269 - Train Accuracy: 0.7174, Validation Accuracy: 0.7165, Loss: 0.8466\n",
      "Epoch  10 Batch  200/269 - Train Accuracy: 0.7187, Validation Accuracy: 0.7134, Loss: 0.8393\n",
      "Epoch  10 Batch  250/269 - Train Accuracy: 0.7244, Validation Accuracy: 0.7106, Loss: 0.8014\n",
      "Epoch  11 Batch   50/269 - Train Accuracy: 0.7148, Validation Accuracy: 0.7215, Loss: 0.8569\n",
      "Epoch  11 Batch  100/269 - Train Accuracy: 0.7320, Validation Accuracy: 0.7066, Loss: 0.7923\n",
      "Epoch  11 Batch  150/269 - Train Accuracy: 0.6904, Validation Accuracy: 0.6884, Loss: 0.9573\n",
      "Epoch  11 Batch  200/269 - Train Accuracy: 0.6201, Validation Accuracy: 0.6255, Loss: 1.2629\n",
      "Epoch  11 Batch  250/269 - Train Accuracy: 0.6029, Validation Accuracy: 0.6064, Loss: 1.2810\n",
      "Epoch  12 Batch   50/269 - Train Accuracy: 0.5235, Validation Accuracy: 0.5541, Loss: 1.7331\n",
      "Epoch  12 Batch  100/269 - Train Accuracy: 0.6208, Validation Accuracy: 0.6055, Loss: 1.3458\n",
      "Epoch  12 Batch  150/269 - Train Accuracy: 0.6330, Validation Accuracy: 0.6265, Loss: 1.2173\n",
      "Epoch  12 Batch  200/269 - Train Accuracy: 0.6406, Validation Accuracy: 0.6518, Loss: 1.1644\n",
      "Epoch  12 Batch  250/269 - Train Accuracy: 0.6531, Validation Accuracy: 0.6588, Loss: 1.0852\n",
      "Epoch  13 Batch   50/269 - Train Accuracy: 0.6631, Validation Accuracy: 0.6676, Loss: 1.0682\n",
      "Epoch  13 Batch  100/269 - Train Accuracy: 0.6744, Validation Accuracy: 0.6543, Loss: 1.0556\n",
      "Epoch  13 Batch  150/269 - Train Accuracy: 0.6788, Validation Accuracy: 0.6740, Loss: 1.0199\n",
      "Epoch  13 Batch  200/269 - Train Accuracy: 0.6884, Validation Accuracy: 0.6889, Loss: 0.9695\n",
      "Epoch  13 Batch  250/269 - Train Accuracy: 0.7048, Validation Accuracy: 0.7034, Loss: 0.9050\n",
      "Epoch  14 Batch   50/269 - Train Accuracy: 0.7054, Validation Accuracy: 0.7062, Loss: 0.9193\n",
      "Epoch  14 Batch  100/269 - Train Accuracy: 0.7294, Validation Accuracy: 0.7093, Loss: 0.8448\n",
      "Epoch  14 Batch  150/269 - Train Accuracy: 0.7240, Validation Accuracy: 0.7140, Loss: 0.8263\n",
      "Epoch  14 Batch  200/269 - Train Accuracy: 0.7234, Validation Accuracy: 0.7174, Loss: 0.8379\n",
      "Epoch  14 Batch  250/269 - Train Accuracy: 0.7421, Validation Accuracy: 0.7295, Loss: 0.7782\n",
      "Epoch  15 Batch   50/269 - Train Accuracy: 0.7307, Validation Accuracy: 0.7275, Loss: 0.7967\n",
      "Epoch  15 Batch  100/269 - Train Accuracy: 0.7635, Validation Accuracy: 0.7442, Loss: 0.7149\n",
      "Epoch  15 Batch  150/269 - Train Accuracy: 0.7507, Validation Accuracy: 0.7415, Loss: 0.7314\n",
      "Epoch  15 Batch  200/269 - Train Accuracy: 0.7587, Validation Accuracy: 0.7512, Loss: 0.7288\n",
      "Epoch  15 Batch  250/269 - Train Accuracy: 0.7744, Validation Accuracy: 0.7551, Loss: 0.6613\n",
      "Epoch  16 Batch   50/269 - Train Accuracy: 0.7596, Validation Accuracy: 0.7604, Loss: 0.7172\n",
      "Epoch  16 Batch  100/269 - Train Accuracy: 0.7895, Validation Accuracy: 0.7715, Loss: 0.6204\n",
      "Epoch  16 Batch  150/269 - Train Accuracy: 0.7684, Validation Accuracy: 0.7600, Loss: 0.6613\n",
      "Epoch  16 Batch  200/269 - Train Accuracy: 0.7659, Validation Accuracy: 0.7693, Loss: 0.6861\n",
      "Epoch  16 Batch  250/269 - Train Accuracy: 0.8032, Validation Accuracy: 0.7748, Loss: 0.5940\n",
      "Epoch  17 Batch   50/269 - Train Accuracy: 0.7711, Validation Accuracy: 0.7770, Loss: 0.6660\n",
      "Epoch  17 Batch  100/269 - Train Accuracy: 0.8115, Validation Accuracy: 0.7979, Loss: 0.5460\n",
      "Epoch  17 Batch  150/269 - Train Accuracy: 0.8019, Validation Accuracy: 0.8074, Loss: 0.5639\n",
      "Epoch  17 Batch  200/269 - Train Accuracy: 0.8011, Validation Accuracy: 0.8155, Loss: 0.5710\n"
     ]
    },
    {
     "name": "stdout",
     "output_type": "stream",
     "text": [
      "Epoch  17 Batch  250/269 - Train Accuracy: 0.8208, Validation Accuracy: 0.8198, Loss: 0.5283\n",
      "Epoch  18 Batch   50/269 - Train Accuracy: 0.8026, Validation Accuracy: 0.8078, Loss: 0.6083\n",
      "Epoch  18 Batch  100/269 - Train Accuracy: 0.8153, Validation Accuracy: 0.8085, Loss: 0.5146\n",
      "Epoch  18 Batch  150/269 - Train Accuracy: 0.8265, Validation Accuracy: 0.8277, Loss: 0.5011\n",
      "Epoch  18 Batch  200/269 - Train Accuracy: 0.8150, Validation Accuracy: 0.8293, Loss: 0.5251\n",
      "Epoch  18 Batch  250/269 - Train Accuracy: 0.8191, Validation Accuracy: 0.8176, Loss: 0.5215\n",
      "Epoch  19 Batch   50/269 - Train Accuracy: 0.8063, Validation Accuracy: 0.8145, Loss: 0.5883\n",
      "Epoch  19 Batch  100/269 - Train Accuracy: 0.8426, Validation Accuracy: 0.8289, Loss: 0.4647\n",
      "Epoch  19 Batch  150/269 - Train Accuracy: 0.8239, Validation Accuracy: 0.8255, Loss: 0.5000\n",
      "Epoch  19 Batch  200/269 - Train Accuracy: 0.8236, Validation Accuracy: 0.8356, Loss: 0.4957\n",
      "Epoch  19 Batch  250/269 - Train Accuracy: 0.8397, Validation Accuracy: 0.8342, Loss: 0.4622\n",
      "Epoch  20 Batch   50/269 - Train Accuracy: 0.8253, Validation Accuracy: 0.8381, Loss: 0.5171\n",
      "Epoch  20 Batch  100/269 - Train Accuracy: 0.8511, Validation Accuracy: 0.8386, Loss: 0.4224\n",
      "Epoch  20 Batch  150/269 - Train Accuracy: 0.8458, Validation Accuracy: 0.8458, Loss: 0.4443\n",
      "Epoch  20 Batch  200/269 - Train Accuracy: 0.8431, Validation Accuracy: 0.8513, Loss: 0.4429\n",
      "Epoch  20 Batch  250/269 - Train Accuracy: 0.8511, Validation Accuracy: 0.8438, Loss: 0.4280\n",
      "Epoch  21 Batch   50/269 - Train Accuracy: 0.8343, Validation Accuracy: 0.8540, Loss: 0.4960\n",
      "Epoch  21 Batch  100/269 - Train Accuracy: 0.8646, Validation Accuracy: 0.8525, Loss: 0.3976\n",
      "Epoch  21 Batch  150/269 - Train Accuracy: 0.8484, Validation Accuracy: 0.8574, Loss: 0.4307\n",
      "Epoch  21 Batch  200/269 - Train Accuracy: 0.8409, Validation Accuracy: 0.8345, Loss: 0.4784\n",
      "Epoch  21 Batch  250/269 - Train Accuracy: 0.8636, Validation Accuracy: 0.8505, Loss: 0.4008\n",
      "Epoch  22 Batch   50/269 - Train Accuracy: 0.8298, Validation Accuracy: 0.8446, Loss: 0.5311\n",
      "Epoch  22 Batch  100/269 - Train Accuracy: 0.8664, Validation Accuracy: 0.8547, Loss: 0.3810\n",
      "Epoch  22 Batch  150/269 - Train Accuracy: 0.8552, Validation Accuracy: 0.8606, Loss: 0.3984\n",
      "Epoch  22 Batch  200/269 - Train Accuracy: 0.8453, Validation Accuracy: 0.8340, Loss: 0.4854\n",
      "Epoch  22 Batch  250/269 - Train Accuracy: 0.8654, Validation Accuracy: 0.8534, Loss: 0.3823\n",
      "Epoch  23 Batch   50/269 - Train Accuracy: 0.8436, Validation Accuracy: 0.8527, Loss: 0.4724\n",
      "Epoch  23 Batch  100/269 - Train Accuracy: 0.8709, Validation Accuracy: 0.8579, Loss: 0.3729\n",
      "Epoch  23 Batch  150/269 - Train Accuracy: 0.8554, Validation Accuracy: 0.8512, Loss: 0.4168\n",
      "Epoch  23 Batch  200/269 - Train Accuracy: 0.8688, Validation Accuracy: 0.8565, Loss: 0.3719\n",
      "Epoch  23 Batch  250/269 - Train Accuracy: 0.8757, Validation Accuracy: 0.8490, Loss: 0.3608\n",
      "Epoch  24 Batch   50/269 - Train Accuracy: 0.8568, Validation Accuracy: 0.8622, Loss: 0.4393\n",
      "Epoch  24 Batch  100/269 - Train Accuracy: 0.8705, Validation Accuracy: 0.8523, Loss: 0.3789\n",
      "Epoch  24 Batch  150/269 - Train Accuracy: 0.8635, Validation Accuracy: 0.8588, Loss: 0.3854\n",
      "Epoch  24 Batch  200/269 - Train Accuracy: 0.8689, Validation Accuracy: 0.8578, Loss: 0.3586\n",
      "Epoch  24 Batch  250/269 - Train Accuracy: 0.8749, Validation Accuracy: 0.8588, Loss: 0.3542\n",
      "Model Trained and Saved\n"
     ]
    }
   ],
   "source": [
    "\"\"\"\n",
    "DON'T MODIFY ANYTHING IN THIS CELL\n",
    "\"\"\"\n",
    "def get_accuracy(target, logits):\n",
    "    \"\"\"\n",
    "    Calculate accuracy\n",
    "    \"\"\"\n",
    "    max_seq = max(target.shape[1], logits.shape[1])\n",
    "    if max_seq - target.shape[1]:\n",
    "        target = np.pad(\n",
    "            target,\n",
    "            [(0,0),(0,max_seq - target.shape[1])],\n",
    "            'constant')\n",
    "    if max_seq - logits.shape[1]:\n",
    "        logits = np.pad(\n",
    "            logits,\n",
    "            [(0,0),(0,max_seq - logits.shape[1])],\n",
    "            'constant')\n",
    "\n",
    "    return np.mean(np.equal(target, logits))\n",
    "\n",
    "# Split data to training and validation sets\n",
    "train_source = source_int_text[batch_size:]\n",
    "train_target = target_int_text[batch_size:]\n",
    "valid_source = source_int_text[:batch_size]\n",
    "valid_target = target_int_text[:batch_size]\n",
    "(valid_sources_batch, valid_targets_batch, valid_sources_lengths, valid_targets_lengths ) = next(get_batches(valid_source,\n",
    "                                                                                                             valid_target,\n",
    "                                                                                                             batch_size,\n",
    "                                                                                                             source_vocab_to_int['<PAD>'],\n",
    "                                                                                                             target_vocab_to_int['<PAD>']))                                                                                                  \n",
    "with tf.Session(graph=train_graph) as sess:\n",
    "    sess.run(tf.global_variables_initializer())\n",
    "\n",
    "    for epoch_i in range(epochs):\n",
    "        for batch_i, (source_batch, target_batch, sources_lengths, targets_lengths) in enumerate(\n",
    "                get_batches(train_source, train_target, batch_size,\n",
    "                            source_vocab_to_int['<PAD>'],\n",
    "                            target_vocab_to_int['<PAD>'])):\n",
    "\n",
    "            _, loss = sess.run(\n",
    "                [train_op, cost],\n",
    "                {input_data: source_batch,\n",
    "                 targets: target_batch,\n",
    "                 lr: learning_rate,\n",
    "                 target_sequence_length: targets_lengths,\n",
    "                 source_sequence_length: sources_lengths,\n",
    "                 keep_prob: keep_probability})\n",
    "\n",
    "\n",
    "            if batch_i % display_step == 0 and batch_i > 0:\n",
    "\n",
    "\n",
    "                batch_train_logits = sess.run(\n",
    "                    inference_logits,\n",
    "                    {input_data: source_batch,\n",
    "                     source_sequence_length: sources_lengths,\n",
    "                     target_sequence_length: targets_lengths,\n",
    "                     keep_prob: 1.0})\n",
    "\n",
    "\n",
    "                batch_valid_logits = sess.run(\n",
    "                    inference_logits,\n",
    "                    {input_data: valid_sources_batch,\n",
    "                     source_sequence_length: valid_sources_lengths,\n",
    "                     target_sequence_length: valid_targets_lengths,\n",
    "                     keep_prob: 1.0})\n",
    "\n",
    "                train_acc = get_accuracy(target_batch, batch_train_logits)\n",
    "\n",
    "                valid_acc = get_accuracy(valid_targets_batch, batch_valid_logits)\n",
    "\n",
    "                print('Epoch {:>3} Batch {:>4}/{} - Train Accuracy: {:>6.4f}, Validation Accuracy: {:>6.4f}, Loss: {:>6.4f}'\n",
    "                      .format(epoch_i, batch_i, len(source_int_text) // batch_size, train_acc, valid_acc, loss))\n",
    "\n",
    "    # Save Model\n",
    "    saver = tf.train.Saver()\n",
    "    saver.save(sess, save_path)\n",
    "    print('Model Trained and Saved')"
   ]
  },
  {
   "cell_type": "markdown",
   "metadata": {},
   "source": [
    "### Save Parameters\n",
    "Save the `batch_size` and `save_path` parameters for inference."
   ]
  },
  {
   "cell_type": "code",
   "execution_count": 26,
   "metadata": {
    "collapsed": true
   },
   "outputs": [],
   "source": [
    "\"\"\"\n",
    "DON'T MODIFY ANYTHING IN THIS CELL\n",
    "\"\"\"\n",
    "# Save parameters for checkpoint\n",
    "helper.save_params(save_path)"
   ]
  },
  {
   "cell_type": "markdown",
   "metadata": {},
   "source": [
    "# Checkpoint"
   ]
  },
  {
   "cell_type": "code",
   "execution_count": 27,
   "metadata": {
    "collapsed": true
   },
   "outputs": [],
   "source": [
    "\"\"\"\n",
    "DON'T MODIFY ANYTHING IN THIS CELL\n",
    "\"\"\"\n",
    "import tensorflow as tf\n",
    "import numpy as np\n",
    "import helper\n",
    "import problem_unittests as tests\n",
    "\n",
    "_, (source_vocab_to_int, target_vocab_to_int), (source_int_to_vocab, target_int_to_vocab) = helper.load_preprocess()\n",
    "load_path = helper.load_params()"
   ]
  },
  {
   "cell_type": "markdown",
   "metadata": {},
   "source": [
    "## Sentence to Sequence\n",
    "To feed a sentence into the model for translation, you first need to preprocess it.  Implement the function `sentence_to_seq()` to preprocess new sentences.\n",
    "\n",
    "- Convert the sentence to lowercase\n",
    "- Convert words into ids using `vocab_to_int`\n",
    " - Convert words not in the vocabulary, to the `<UNK>` word id."
   ]
  },
  {
   "cell_type": "code",
   "execution_count": 28,
   "metadata": {},
   "outputs": [
    {
     "name": "stdout",
     "output_type": "stream",
     "text": [
      "Tests Passed\n"
     ]
    }
   ],
   "source": [
    "def sentence_to_seq(sentence, vocab_to_int):\n",
    "    \"\"\"\n",
    "    Convert a sentence to a sequence of ids\n",
    "    :param sentence: String\n",
    "    :param vocab_to_int: Dictionary to go from the words to an id\n",
    "    :return: List of word ids\n",
    "    \"\"\"\n",
    "    # TODO: Implement Function\n",
    "    return [vocab_to_int[word] if word in vocab_to_int.keys() else vocab_to_int['<UNK>'] for word in sentence.lower().split()]\n",
    "    \n",
    "\"\"\"\n",
    "DON'T MODIFY ANYTHING IN THIS CELL THAT IS BELOW THIS LINE\n",
    "\"\"\"\n",
    "tests.test_sentence_to_seq(sentence_to_seq)"
   ]
  },
  {
   "cell_type": "markdown",
   "metadata": {},
   "source": [
    "## Translate\n",
    "This will translate `translate_sentence` from English to French."
   ]
  },
  {
   "cell_type": "code",
   "execution_count": 29,
   "metadata": {},
   "outputs": [
    {
     "name": "stdout",
     "output_type": "stream",
     "text": [
      "INFO:tensorflow:Restoring parameters from checkpoints/dev\n",
      "Input\n",
      "  Word Ids:      [127, 104, 115, 213, 7, 207, 91]\n",
      "  English Words: ['he', 'saw', 'a', 'old', 'yellow', 'truck', '.']\n",
      "\n",
      "Prediction\n",
      "  Word Ids:      [249, 200, 323, 117, 162, 27, 293, 85, 162, 328, 258, 323, 226, 323]\n",
      "  French Words: notre états-unis est jamais de neige au mois de septembre , est il est\n"
     ]
    }
   ],
   "source": [
    "translate_sentence = 'he saw a old yellow truck .'\n",
    "\n",
    "\n",
    "\"\"\"\n",
    "DON'T MODIFY ANYTHING IN THIS CELL\n",
    "\"\"\"\n",
    "translate_sentence = sentence_to_seq(translate_sentence, source_vocab_to_int)\n",
    "\n",
    "loaded_graph = tf.Graph()\n",
    "with tf.Session(graph=loaded_graph) as sess:\n",
    "    # Load saved model\n",
    "    loader = tf.train.import_meta_graph(load_path + '.meta')\n",
    "    loader.restore(sess, load_path)\n",
    "\n",
    "    input_data = loaded_graph.get_tensor_by_name('input:0')\n",
    "    logits = loaded_graph.get_tensor_by_name('predictions:0')\n",
    "    target_sequence_length = loaded_graph.get_tensor_by_name('target_sequence_length:0')\n",
    "    source_sequence_length = loaded_graph.get_tensor_by_name('source_sequence_length:0')\n",
    "    keep_prob = loaded_graph.get_tensor_by_name('keep_prob:0')\n",
    "\n",
    "    translate_logits = sess.run(logits, {input_data: [translate_sentence]*batch_size,\n",
    "                                         target_sequence_length: [len(translate_sentence)*2]*batch_size,\n",
    "                                         source_sequence_length: [len(translate_sentence)]*batch_size,\n",
    "                                         keep_prob: 1.0})[0]\n",
    "\n",
    "print('Input')\n",
    "print('  Word Ids:      {}'.format([i for i in translate_sentence]))\n",
    "print('  English Words: {}'.format([source_int_to_vocab[i] for i in translate_sentence]))\n",
    "\n",
    "print('\\nPrediction')\n",
    "print('  Word Ids:      {}'.format([i for i in translate_logits]))\n",
    "print('  French Words: {}'.format(\" \".join([target_int_to_vocab[i] for i in translate_logits])))\n"
   ]
  },
  {
   "cell_type": "markdown",
   "metadata": {},
   "source": [
    "## Imperfect Translation\n",
    "You might notice that some sentences translate better than others.  Since the dataset you're using only has a vocabulary of 227 English words of the thousands that you use, you're only going to see good results using these words.  For this project, you don't need a perfect translation. However, if you want to create a better translation model, you'll need better data.\n",
    "\n",
    "You can train on the [WMT10 French-English corpus](http://www.statmt.org/wmt10/training-giga-fren.tar).  This dataset has more vocabulary and richer in topics discussed.  However, this will take you days to train, so make sure you've a GPU and the neural network is performing well on dataset we provided.  Just make sure you play with the WMT10 corpus after you've submitted this project.\n",
    "## Submitting This Project\n",
    "When submitting this project, make sure to run all the cells before saving the notebook. Save the notebook file as \"dlnd_language_translation.ipynb\" and save it as a HTML file under \"File\" -> \"Download as\". Include the \"helper.py\" and \"problem_unittests.py\" files in your submission."
   ]
  },
  {
   "cell_type": "code",
   "execution_count": null,
   "metadata": {
    "collapsed": true
   },
   "outputs": [],
   "source": []
  }
 ],
 "metadata": {
  "anaconda-cloud": {},
  "kernelspec": {
   "display_name": "Python 3",
   "language": "python",
   "name": "python3"
  },
  "language_info": {
   "codemirror_mode": {
    "name": "ipython",
    "version": 3
   },
   "file_extension": ".py",
   "mimetype": "text/x-python",
   "name": "python",
   "nbconvert_exporter": "python",
   "pygments_lexer": "ipython3",
   "version": "3.5.2"
  }
 },
 "nbformat": 4,
 "nbformat_minor": 1
}

{
 "cells": [
  {
   "cell_type": "markdown",
   "metadata": {
    "collapsed": true
   },
   "source": [
    "# Image Classification\n",
    "In this project, you'll classify images from the [CIFAR-10 dataset](https://www.cs.toronto.edu/~kriz/cifar.html).  The dataset consists of airplanes, dogs, cats, and other objects. You'll preprocess the images, then train a convolutional neural network on all the samples. The images need to be normalized and the labels need to be one-hot encoded.  You'll get to apply what you learned and build a convolutional, max pooling, dropout, and fully connected layers.  At the end, you'll get to see your neural network's predictions on the sample images.\n",
    "## Get the Data\n",
    "Run the following cell to download the [CIFAR-10 dataset for python](https://www.cs.toronto.edu/~kriz/cifar-10-python.tar.gz)."
   ]
  },
  {
   "cell_type": "code",
   "execution_count": 1,
   "metadata": {
    "collapsed": false
   },
   "outputs": [
    {
     "name": "stderr",
     "output_type": "stream",
     "text": [
      "CIFAR-10 Dataset: 171MB [01:27, 1.94MB/s]                                      \n"
     ]
    },
    {
     "name": "stdout",
     "output_type": "stream",
     "text": [
      "All files found!\n"
     ]
    }
   ],
   "source": [
    "\"\"\"\n",
    "DON'T MODIFY ANYTHING IN THIS CELL THAT IS BELOW THIS LINE\n",
    "\"\"\"\n",
    "from urllib.request import urlretrieve\n",
    "from os.path import isfile, isdir\n",
    "from tqdm import tqdm\n",
    "import problem_unittests as tests\n",
    "import tarfile\n",
    "\n",
    "cifar10_dataset_folder_path = 'cifar-10-batches-py'\n",
    "\n",
    "# Use Floyd's cifar-10 dataset if present\n",
    "floyd_cifar10_location = '/input/cifar-10/python.tar.gz'\n",
    "if isfile(floyd_cifar10_location):\n",
    "    tar_gz_path = floyd_cifar10_location\n",
    "else:\n",
    "    tar_gz_path = 'cifar-10-python.tar.gz'\n",
    "\n",
    "class DLProgress(tqdm):\n",
    "    last_block = 0\n",
    "\n",
    "    def hook(self, block_num=1, block_size=1, total_size=None):\n",
    "        self.total = total_size\n",
    "        self.update((block_num - self.last_block) * block_size)\n",
    "        self.last_block = block_num\n",
    "\n",
    "if not isfile(tar_gz_path):\n",
    "    with DLProgress(unit='B', unit_scale=True, miniters=1, desc='CIFAR-10 Dataset') as pbar:\n",
    "        urlretrieve(\n",
    "            'https://www.cs.toronto.edu/~kriz/cifar-10-python.tar.gz',\n",
    "            tar_gz_path,\n",
    "            pbar.hook)\n",
    "\n",
    "if not isdir(cifar10_dataset_folder_path):\n",
    "    with tarfile.open(tar_gz_path) as tar:\n",
    "        tar.extractall()\n",
    "        tar.close()\n",
    "\n",
    "\n",
    "tests.test_folder_path(cifar10_dataset_folder_path)"
   ]
  },
  {
   "cell_type": "markdown",
   "metadata": {},
   "source": [
    "## Explore the Data\n",
    "The dataset is broken into batches to prevent your machine from running out of memory.  The CIFAR-10 dataset consists of 5 batches, named `data_batch_1`, `data_batch_2`, etc.. Each batch contains the labels and images that are one of the following:\n",
    "* airplane\n",
    "* automobile\n",
    "* bird\n",
    "* cat\n",
    "* deer\n",
    "* dog\n",
    "* frog\n",
    "* horse\n",
    "* ship\n",
    "* truck\n",
    "\n",
    "Understanding a dataset is part of making predictions on the data.  Play around with the code cell below by changing the `batch_id` and `sample_id`. The `batch_id` is the id for a batch (1-5). The `sample_id` is the id for a image and label pair in the batch.\n",
    "\n",
    "Ask yourself \"What are all possible labels?\", \"What is the range of values for the image data?\", \"Are the labels in order or random?\".  Answers to questions like these will help you preprocess the data and end up with better predictions."
   ]
  },
  {
   "cell_type": "code",
   "execution_count": 3,
   "metadata": {
    "collapsed": false
   },
   "outputs": [
    {
     "name": "stdout",
     "output_type": "stream",
     "text": [
      "\n",
      "Stats of batch 2:\n",
      "Samples: 10000\n",
      "Label Counts: {0: 984, 1: 1007, 2: 1010, 3: 995, 4: 1010, 5: 988, 6: 1008, 7: 1026, 8: 987, 9: 985}\n",
      "First 20 Labels: [1, 6, 6, 8, 8, 3, 4, 6, 0, 6, 0, 3, 6, 6, 5, 4, 8, 3, 2, 6]\n",
      "\n",
      "Example of Image 5:\n",
      "Image - Min Value: 3 Max Value: 219\n",
      "Image - Shape: (32, 32, 3)\n",
      "Label - Label Id: 3 Name: cat\n"
     ]
    },
    {
     "data": {
      "image/png": "[encoded data removed]",
      "text/plain": [
       "<matplotlib.figure.Figure at 0x7e227a11d0>"
      ]
     },
     "metadata": {
      "image/png": {
       "height": 250,
       "width": 253
      }
     },
     "output_type": "display_data"
    }
   ],
   "source": [
    "%matplotlib inline\n",
    "%config InlineBackend.figure_format = 'retina'\n",
    "\n",
    "import helper\n",
    "import numpy as np\n",
    "\n",
    "# Explore the dataset\n",
    "batch_id = 1\n",
    "sample_id = 5\n",
    "helper.display_stats(cifar10_dataset_folder_path, batch_id, sample_id)"
   ]
  },
  {
   "cell_type": "markdown",
   "metadata": {},
   "source": [
    "## Implement Preprocess Functions\n",
    "### Normalize\n",
    "In the cell below, implement the `normalize` function to take in image data, `x`, and return it as a normalized Numpy array. The values should be in the range of 0 to 1, inclusive.  The return object should be the same shape as `x`."
   ]
  },
  {
   "cell_type": "code",
   "execution_count": 47,
   "metadata": {
    "collapsed": false
   },
   "outputs": [
    {
     "name": "stdout",
     "output_type": "stream",
     "text": [
      "(224, 32, 32, 3)\n",
      "Tests Passed\n"
     ]
    }
   ],
   "source": [
    "def normalize(x):\n",
    "    \"\"\"\n",
    "    Normalize a list of sample image data in the range of 0 to 1\n",
    "    : x: List of image data.  The image shape is (32, 32, 3)\n",
    "    : return: Numpy array of normalize data\n",
    "    \"\"\"\n",
    "    #print(x.shape)\n",
    "    x = x/256\n",
    "    # TODO: Implement Function\n",
    "    return x\n",
    "\n",
    "\n",
    "\"\"\"\n",
    "DON'T MODIFY ANYTHING IN THIS CELL THAT IS BELOW THIS LINE\n",
    "\"\"\"\n",
    "tests.test_normalize(normalize)"
   ]
  },
  {
   "cell_type": "markdown",
   "metadata": {},
   "source": [
    "### One-hot encode\n",
    "Just like the previous code cell, you'll be implementing a function for preprocessing.  This time, you'll implement the `one_hot_encode` function. The input, `x`, are a list of labels.  Implement the function to return the list of labels as One-Hot encoded Numpy array.  The possible values for labels are 0 to 9. The one-hot encoding function should return the same encoding for each value between each call to `one_hot_encode`.  Make sure to save the map of encodings outside the function.\n",
    "\n",
    "Hint: Don't reinvent the wheel."
   ]
  },
  {
   "cell_type": "code",
   "execution_count": 12,
   "metadata": {
    "collapsed": false
   },
   "outputs": [
    {
     "name": "stdout",
     "output_type": "stream",
     "text": [
      "Tests Passed\n"
     ]
    }
   ],
   "source": [
    "def one_hot_encode(x):\n",
    "    \"\"\"\n",
    "    One hot encode a list of sample labels. Return a one-hot encoded vector for each label.\n",
    "    : x: List of sample Labels\n",
    "    : return: Numpy array of one-hot encoded labels\n",
    "    \"\"\"\n",
    "    # TODO: Implement Function\n",
    "    nb_classes = 10\n",
    "    #print(x)\n",
    "    targets = np.array(x).reshape(-1)\n",
    "    #print(targets)\n",
    "    one_hot_targets = np.eye(nb_classes)[targets]\n",
    "    return one_hot_targets\n",
    "\n",
    "\n",
    "\"\"\"\n",
    "DON'T MODIFY ANYTHING IN THIS CELL THAT IS BELOW THIS LINE\n",
    "\"\"\"\n",
    "tests.test_one_hot_encode(one_hot_encode)"
   ]
  },
  {
   "cell_type": "markdown",
   "metadata": {},
   "source": [
    "### Randomize Data\n",
    "As you saw from exploring the data above, the order of the samples are randomized.  It doesn't hurt to randomize it again, but you don't need to for this dataset."
   ]
  },
  {
   "cell_type": "markdown",
   "metadata": {},
   "source": [
    "## Preprocess all the data and save it\n",
    "Running the code cell below will preprocess all the CIFAR-10 data and save it to file. The code below also uses 10% of the training data for validation."
   ]
  },
  {
   "cell_type": "code",
   "execution_count": 13,
   "metadata": {
    "collapsed": false
   },
   "outputs": [],
   "source": [
    "\"\"\"\n",
    "DON'T MODIFY ANYTHING IN THIS CELL\n",
    "\"\"\"\n",
    "# Preprocess Training, Validation, and Testing Data\n",
    "helper.preprocess_and_save_data(cifar10_dataset_folder_path, normalize, one_hot_encode)"
   ]
  },
  {
   "cell_type": "markdown",
   "metadata": {},
   "source": [
    "# Check Point\n",
    "This is your first checkpoint.  If you ever decide to come back to this notebook or have to restart the notebook, you can start from here.  The preprocessed data has been saved to disk."
   ]
  },
  {
   "cell_type": "code",
   "execution_count": 14,
   "metadata": {
    "collapsed": true
   },
   "outputs": [],
   "source": [
    "\"\"\"\n",
    "DON'T MODIFY ANYTHING IN THIS CELL\n",
    "\"\"\"\n",
    "import pickle\n",
    "import problem_unittests as tests\n",
    "import helper\n",
    "\n",
    "# Load the Preprocessed Validation data\n",
    "valid_features, valid_labels = pickle.load(open('preprocess_validation.p', mode='rb'))"
   ]
  },
  {
   "cell_type": "markdown",
   "metadata": {},
   "source": [
    "## Build the network\n",
    "For the neural network, you'll build each layer into a function.  Most of the code you've seen has been outside of functions. To test your code more thoroughly, we require that you put each layer in a function.  This allows us to give you better feedback and test for simple mistakes using our unittests before you submit your project.\n",
    "\n",
    ">**Note:** If you're finding it hard to dedicate enough time for this course each week, we've provided a small shortcut to this part of the project. In the next couple of problems, you'll have the option to use classes from the [TensorFlow Layers](https://www.tensorflow.org/api_docs/python/tf/layers) or [TensorFlow Layers (contrib)](https://www.tensorflow.org/api_guides/python/contrib.layers) packages to build each layer, except the layers you build in the \"Convolutional and Max Pooling Layer\" section.  TF Layers is similar to Keras's and TFLearn's abstraction to layers, so it's easy to pickup.\n",
    "\n",
    ">However, if you would like to get the most out of this course, try to solve all the problems _without_ using anything from the TF Layers packages. You **can** still use classes from other packages that happen to have the same name as ones you find in TF Layers! For example, instead of using the TF Layers version of the `conv2d` class, [tf.layers.conv2d](https://www.tensorflow.org/api_docs/python/tf/layers/conv2d), you would want to use the TF Neural Network version of `conv2d`, [tf.nn.conv2d](https://www.tensorflow.org/api_docs/python/tf/nn/conv2d). \n",
    "\n",
    "Let's begin!\n",
    "\n",
    "### Input\n",
    "The neural network needs to read the image data, one-hot encoded labels, and dropout keep probability. Implement the following functions\n",
    "* Implement `neural_net_image_input`\n",
    " * Return a [TF Placeholder](https://www.tensorflow.org/api_docs/python/tf/placeholder)\n",
    " * Set the shape using `image_shape` with batch size set to `None`.\n",
    " * Name the TensorFlow placeholder \"x\" using the TensorFlow `name` parameter in the [TF Placeholder](https://www.tensorflow.org/api_docs/python/tf/placeholder).\n",
    "* Implement `neural_net_label_input`\n",
    " * Return a [TF Placeholder](https://www.tensorflow.org/api_docs/python/tf/placeholder)\n",
    " * Set the shape using `n_classes` with batch size set to `None`.\n",
    " * Name the TensorFlow placeholder \"y\" using the TensorFlow `name` parameter in the [TF Placeholder](https://www.tensorflow.org/api_docs/python/tf/placeholder).\n",
    "* Implement `neural_net_keep_prob_input`\n",
    " * Return a [TF Placeholder](https://www.tensorflow.org/api_docs/python/tf/placeholder) for dropout keep probability.\n",
    " * Name the TensorFlow placeholder \"keep_prob\" using the TensorFlow `name` parameter in the [TF Placeholder](https://www.tensorflow.org/api_docs/python/tf/placeholder).\n",
    "\n",
    "These names will be used at the end of the project to load your saved model.\n",
    "\n",
    "Note: `None` for shapes in TensorFlow allow for a dynamic size."
   ]
  },
  {
   "cell_type": "code",
   "execution_count": 48,
   "metadata": {
    "collapsed": false
   },
   "outputs": [
    {
     "name": "stdout",
     "output_type": "stream",
     "text": [
      "(32, 32, 3)\n",
      "Image Input Tests Passed.\n",
      "Label Input Tests Passed.\n",
      "Keep Prob Tests Passed.\n"
     ]
    }
   ],
   "source": [
    "import tensorflow as tf\n",
    "\n",
    "def neural_net_image_input(image_shape):\n",
    "    \"\"\"\n",
    "    Return a Tensor for a batch of image input\n",
    "    : image_shape: Shape of the images\n",
    "    : return: Tensor for image input.\n",
    "    \"\"\"\n",
    "    #print(image_shape)\n",
    "    # TODO: Implement Function    \n",
    "    x = tf.placeholder(tf.float32,(None,image_shape[0],image_shape[1],image_shape[2]),name=\"x\")\n",
    "    return x\n",
    "\n",
    "\n",
    "def neural_net_label_input(n_classes):\n",
    "    \"\"\"\n",
    "    Return a Tensor for a batch of label input\n",
    "    : n_classes: Number of classes\n",
    "    : return: Tensor for label input.\n",
    "    \"\"\"\n",
    "    # TODO: Implement Function\n",
    "    y = tf.placeholder(tf.int32,(None,n_classes),name=\"y\")\n",
    "    return y\n",
    "\n",
    "\n",
    "def neural_net_keep_prob_input():\n",
    "    \"\"\"\n",
    "    Return a Tensor for keep probability\n",
    "    : return: Tensor for keep probability.\n",
    "    \"\"\"\n",
    "    # TODO: Implement Function\n",
    "    keep_prob = tf.placeholder(tf.float32,name=\"keep_prob\")\n",
    "    #print(keep_prob.get_shape().ndims)\n",
    "    #assert nn_inputs_out_k.get_shape().ndims is None\n",
    "    return keep_prob\n",
    "\n",
    "\n",
    "\"\"\"\n",
    "DON'T MODIFY ANYTHING IN THIS CELL THAT IS BELOW THIS LINE\n",
    "\"\"\"\n",
    "tf.reset_default_graph()\n",
    "tests.test_nn_image_inputs(neural_net_image_input)\n",
    "tests.test_nn_label_inputs(neural_net_label_input)\n",
    "tests.test_nn_keep_prob_inputs(neural_net_keep_prob_input)"
   ]
  },
  {
   "cell_type": "markdown",
   "metadata": {},
   "source": [
    "### Convolution and Max Pooling Layer\n",
    "Convolution layers have a lot of success with images. For this code cell, you should implement the function `conv2d_maxpool` to apply convolution then max pooling:\n",
    "* Create the weight and bias using `conv_ksize`, `conv_num_outputs` and the shape of `x_tensor`.\n",
    "* Apply a convolution to `x_tensor` using weight and `conv_strides`.\n",
    " * We recommend you use same padding, but you're welcome to use any padding.\n",
    "* Add bias\n",
    "* Add a nonlinear activation to the convolution.\n",
    "* Apply Max Pooling using `pool_ksize` and `pool_strides`.\n",
    " * We recommend you use same padding, but you're welcome to use any padding.\n",
    "\n",
    "**Note:** You **can't** use [TensorFlow Layers](https://www.tensorflow.org/api_docs/python/tf/layers) or [TensorFlow Layers (contrib)](https://www.tensorflow.org/api_guides/python/contrib.layers) for **this** layer, but you can still use TensorFlow's [Neural Network](https://www.tensorflow.org/api_docs/python/tf/nn) package. You may still use the shortcut option for all the **other** layers."
   ]
  },
  {
   "cell_type": "code",
   "execution_count": 169,
   "metadata": {
    "collapsed": false
   },
   "outputs": [
    {
     "name": "stdout",
     "output_type": "stream",
     "text": [
      "conv2d_maxpool (?, 32, 32, 5)\n",
      "Tests Passed\n"
     ]
    }
   ],
   "source": [
    "def conv2d_maxpool(x_tensor, conv_num_outputs, conv_ksize, conv_strides, pool_ksize, pool_strides):\n",
    "    \"\"\"\n",
    "    Apply convolution then max pooling to x_tensor\n",
    "    :param x_tensor: TensorFlow Tensor\n",
    "    :param conv_num_outputs: Number of outputs for the convolutional layer\n",
    "    :param conv_ksize: kernal size 2-D Tuple for the convolutional layer\n",
    "    :param conv_strides: Stride 2-D Tuple for convolution\n",
    "    :param pool_ksize: kernal size 2-D Tuple for pool\n",
    "    :param pool_strides: Stride 2-D Tuple for pool\n",
    "    : return: A tensor that represents convolution and max pooling of x_tensor\n",
    "    \"\"\"\n",
    "    \n",
    "    print('conv2d_maxpool',x_tensor.shape)\n",
    "    #print(x_tensor.shape[3])\n",
    "    \n",
    "    # convert into list and get the third element for the depth of the input element tensor\n",
    "    depth = x_tensor.shape.as_list()[3]\n",
    "    \n",
    "    # TODO: Implement Function\n",
    "    \n",
    "    weights = tf.Variable(tf.truncated_normal([conv_ksize[0],conv_ksize[1],depth,conv_num_outputs],stddev=0.05),name=\"weights\")\n",
    "    bias = tf.Variable(tf.zeros(conv_num_outputs),name=\"bias\")\n",
    "    \n",
    "    conv_layer = tf.nn.conv2d(x_tensor,weights,strides=[1,conv_strides[0],conv_strides[1],1],padding='SAME')\n",
    "    conv_layer = tf.nn.bias_add(conv_layer,bias)\n",
    "    conv_layer = tf.nn.relu(conv_layer)\n",
    "    conv_layer = tf.nn.max_pool(\n",
    "                            conv_layer,\n",
    "                            ksize=[1,pool_ksize[0],pool_ksize[1],1],\n",
    "                            strides=[1,pool_strides[0],pool_strides[1],1],\n",
    "                            padding='SAME')\n",
    "    \n",
    "    return conv_layer \n",
    "\n",
    "\n",
    "\"\"\"\n",
    "DON'T MODIFY ANYTHING IN THIS CELL THAT IS BELOW THIS LINE\n",
    "\"\"\"\n",
    "tests.test_con_pool(conv2d_maxpool)"
   ]
  },
  {
   "cell_type": "markdown",
   "metadata": {},
   "source": [
    "### Flatten Layer\n",
    "Implement the `flatten` function to change the dimension of `x_tensor` from a 4-D tensor to a 2-D tensor.  The output should be the shape (*Batch Size*, *Flattened Image Size*). Shortcut option: you can use classes from the [TensorFlow Layers](https://www.tensorflow.org/api_docs/python/tf/layers) or [TensorFlow Layers (contrib)](https://www.tensorflow.org/api_guides/python/contrib.layers) packages for this layer. For more of a challenge, only use other TensorFlow packages."
   ]
  },
  {
   "cell_type": "code",
   "execution_count": 170,
   "metadata": {
    "collapsed": false
   },
   "outputs": [
    {
     "name": "stdout",
     "output_type": "stream",
     "text": [
      "flatten (?, 10, 30, 6)\n",
      "Tests Passed\n"
     ]
    }
   ],
   "source": [
    "def flatten(x_tensor):\n",
    "    \"\"\"\n",
    "    Flatten x_tensor to (Batch Size, Flattened Image Size)\n",
    "    : x_tensor: A tensor of size (Batch Size, ...), where ... are the image dimensions.\n",
    "    : return: A tensor of size (Batch Size, Flattened Image Size).\n",
    "    \"\"\"\n",
    "    # TODO: Implement Function\n",
    "    #print(x_tensor.shape)\n",
    "    print('flatten',x_tensor.shape)\n",
    "    flatten_image_shape = x_tensor.get_shape().as_list()[1] * x_tensor.get_shape().as_list()[2] * x_tensor.get_shape().as_list()[3]\n",
    "    #print(flatten_image_shape)\n",
    "    reshaped_ts = tf.reshape(x_tensor,[-1,flatten_image_shape ])\n",
    "    #print(reshaped_ts)\n",
    "    return reshaped_ts\n",
    "\n",
    "\n",
    "\"\"\"\n",
    "DON'T MODIFY ANYTHING IN THIS CELL THAT IS BELOW THIS LINE\n",
    "\"\"\"\n",
    "tests.test_flatten(flatten)"
   ]
  },
  {
   "cell_type": "markdown",
   "metadata": {},
   "source": [
    "### Fully-Connected Layer\n",
    "Implement the `fully_conn` function to apply a fully connected layer to `x_tensor` with the shape (*Batch Size*, *num_outputs*). Shortcut option: you can use classes from the [TensorFlow Layers](https://www.tensorflow.org/api_docs/python/tf/layers) or [TensorFlow Layers (contrib)](https://www.tensorflow.org/api_guides/python/contrib.layers) packages for this layer. For more of a challenge, only use other TensorFlow packages."
   ]
  },
  {
   "cell_type": "code",
   "execution_count": 171,
   "metadata": {
    "collapsed": false
   },
   "outputs": [
    {
     "name": "stdout",
     "output_type": "stream",
     "text": [
      "fully_conn (?, 128)\n",
      "Tests Passed\n"
     ]
    }
   ],
   "source": [
    "def fully_conn(x_tensor, num_outputs):\n",
    "    \"\"\"\n",
    "    Apply a fully connected layer to x_tensor using weight and bias\n",
    "    : x_tensor: A 2-D tensor where the first dimension is batch size.\n",
    "    : num_outputs: The number of output that the new tensor should be.\n",
    "    : return: A 2-D tensor where the second dimension is num_outputs.\n",
    "    \"\"\"\n",
    "    # TODO: Implement Function\n",
    "    print('fully_conn',x_tensor.shape)\n",
    "    flatten_input_nodes_perimage = x_tensor.get_shape().as_list()[1]\n",
    "    #print(flatten_input_nodes_perimage)\n",
    "    #print(num_outputs)\n",
    "    fc_weights = tf.Variable(tf.truncated_normal(shape=(flatten_input_nodes_perimage,num_outputs),stddev=0.05))\n",
    "    fc_bias = tf.Variable(tf.zeros(num_outputs))\n",
    "    fc_layer = tf.add(tf.matmul(x_tensor,fc_weights),fc_bias)\n",
    "    fc_layer = tf.nn.relu(fc_layer)\n",
    "    return fc_layer\n",
    "    #return tf.contrib.layers.fully_connected(x_tensor,num_outputs,activation_fn=tf.nn.relu)\n",
    "\n",
    "\n",
    "\"\"\"\n",
    "DON'T MODIFY ANYTHING IN THIS CELL THAT IS BELOW THIS LINE\n",
    "\"\"\"\n",
    "tests.test_fully_conn(fully_conn)"
   ]
  },
  {
   "cell_type": "markdown",
   "metadata": {},
   "source": [
    "### Output Layer\n",
    "Implement the `output` function to apply a fully connected layer to `x_tensor` with the shape (*Batch Size*, *num_outputs*). Shortcut option: you can use classes from the [TensorFlow Layers](https://www.tensorflow.org/api_docs/python/tf/layers) or [TensorFlow Layers (contrib)](https://www.tensorflow.org/api_guides/python/contrib.layers) packages for this layer. For more of a challenge, only use other TensorFlow packages.\n",
    "\n",
    "**Note:** Activation, softmax, or cross entropy should **not** be applied to this."
   ]
  },
  {
   "cell_type": "code",
   "execution_count": 172,
   "metadata": {
    "collapsed": false
   },
   "outputs": [
    {
     "name": "stdout",
     "output_type": "stream",
     "text": [
      "output layer (?, 128)\n",
      "Tests Passed\n"
     ]
    }
   ],
   "source": [
    "def output(x_tensor, num_outputs):\n",
    "    \"\"\"\n",
    "    Apply a output layer to x_tensor using weight and bias\n",
    "    : x_tensor: A 2-D tensor where the first dimension is batch size.\n",
    "    : num_outputs: The number of output that the new tensor should be.\n",
    "    : return: A 2-D tensor where the second dimension is num_outputs.\n",
    "    \"\"\"\n",
    "    # TODO: Implement Function\n",
    "    print('output layer',x_tensor.shape)\n",
    "    op_weights = tf.Variable(tf.truncated_normal(shape=(x_tensor.get_shape().as_list()[1],num_outputs),stddev=0.05))\n",
    "    op_bias = tf.Variable(tf.zeros(num_outputs))\n",
    "    op_layer = tf.add(tf.matmul(x_tensor,op_weights),op_bias)\n",
    "    return op_layer\n",
    "\n",
    "\n",
    "\"\"\"\n",
    "DON'T MODIFY ANYTHING IN THIS CELL THAT IS BELOW THIS LINE\n",
    "\"\"\"\n",
    "tests.test_output(output)"
   ]
  },
  {
   "cell_type": "markdown",
   "metadata": {},
   "source": [
    "### Create Convolutional Model\n",
    "Implement the function `conv_net` to create a convolutional neural network model. The function takes in a batch of images, `x`, and outputs logits.  Use the layers you created above to create this model:\n",
    "\n",
    "* Apply 1, 2, or 3 Convolution and Max Pool layers\n",
    "* Apply a Flatten Layer\n",
    "* Apply 1, 2, or 3 Fully Connected Layers\n",
    "* Apply an Output Layer\n",
    "* Return the output\n",
    "* Apply [TensorFlow's Dropout](https://www.tensorflow.org/api_docs/python/tf/nn/dropout) to one or more layers in the model using `keep_prob`. "
   ]
  },
  {
   "cell_type": "code",
   "execution_count": 265,
   "metadata": {
    "collapsed": false
   },
   "outputs": [
    {
     "name": "stdout",
     "output_type": "stream",
     "text": [
      "(32, 32, 3)\n",
      "conv2d_maxpool (?, 32, 32, 3)\n",
      "conv2d_maxpool (?, 16, 16, 40)\n",
      "flatten (?, 8, 8, 100)\n",
      "fully_conn (?, 6400)\n",
      "fully_conn (?, 25)\n",
      "output layer (?, 15)\n",
      "output layer output (?, 10)\n",
      "conv2d_maxpool (?, 32, 32, 3)\n",
      "conv2d_maxpool (?, 16, 16, 40)\n",
      "flatten (?, 8, 8, 100)\n",
      "fully_conn (?, 6400)\n",
      "fully_conn (?, 25)\n",
      "output layer (?, 15)\n",
      "output layer output (?, 10)\n",
      "Neural Network Built!\n"
     ]
    }
   ],
   "source": [
    "def conv_net(x, keep_prob):\n",
    "    \"\"\"\n",
    "    Create a convolutional neural network model\n",
    "    : x: Placeholder tensor that holds image data.\n",
    "    : keep_prob: Placeholder tensor that hold dropout keep probability.\n",
    "    : return: Tensor that represents logits\n",
    "    \"\"\"\n",
    "    # TODO: Apply 1, 2, or 3 Convolution and Max Pool layers\n",
    "    #    Play around with different number of outputs, kernel size and stride\n",
    "    # Function Definition from Above:\n",
    "    #    conv2d_maxpool(x_tensor, conv_num_outputs, conv_ksize, conv_strides, pool_ksize, pool_strides)\n",
    "    #print(x.shape)\n",
    "    conv_num_outputs = 40\n",
    "    conv_ksize = (5,5)\n",
    "    conv_strides = (1,1)\n",
    "    pool_ksize = (2,2)\n",
    "    pool_strides = (2,2)\n",
    "    \n",
    "    \n",
    "    \n",
    "    layer1_conv2d = conv2d_maxpool(x,\n",
    "                   conv_num_outputs=conv_num_outputs,\n",
    "                   conv_ksize=conv_ksize,\n",
    "                   conv_strides=conv_strides,\n",
    "                   pool_ksize=pool_ksize,\n",
    "                   pool_strides = pool_strides)\n",
    "    \n",
    "    #conv_num_outputs = 100\n",
    "    \n",
    "    layer2_conv2d = conv2d_maxpool(layer1_conv2d,\n",
    "                   conv_num_outputs=100,\n",
    "                   conv_ksize=conv_ksize,\n",
    "                   conv_strides=conv_strides,\n",
    "                   pool_ksize=pool_ksize,\n",
    "                   pool_strides = pool_strides)\n",
    "    # TODO: Apply a Flatten Layer\n",
    "    # Function Definition from Above:\n",
    "    #   flatten(x_tensor)\n",
    "    layer3_flatten = flatten(layer2_conv2d)    \n",
    "\n",
    "    # TODO: Apply 1, 2, or 3 Fully Connected Layers\n",
    "    #    Play around with different number of outputs\n",
    "    # Function Definition from Above:\n",
    "    #   fully_conn(x_tensor, num_outputs)\n",
    "    #conv_num_outputs = 25\n",
    "    layer4_fc = fully_conn(layer3_flatten,num_outputs=25)\n",
    "    #conv_num_outputs = 15\n",
    "    layer5_fc = fully_conn(layer4_fc,num_outputs=15)\n",
    "    \n",
    "    layer5_1_dropout = tf.nn.dropout(layer5_fc,keep_prob=keep_prob)\n",
    "    \n",
    "    # TODO: Apply an Output Layer\n",
    "    #    Set this to the number of classes\n",
    "    # Function Definition from Above:\n",
    "    #   output(x_tensor, num_outputs)\n",
    "    #conv_num_outputs = 10\n",
    "    layer6_op = output(layer5_1_dropout,num_outputs=10)\n",
    "    print('output layer output',layer6_op.shape)\n",
    "    # TODO: return output\n",
    "    return layer6_op\n",
    "\n",
    "\n",
    "\"\"\"\n",
    "DON'T MODIFY ANYTHING IN THIS CELL THAT IS BELOW THIS LINE\n",
    "\"\"\"\n",
    "\n",
    "##############################\n",
    "## Build the Neural Network ##\n",
    "##############################\n",
    "\n",
    "# Remove previous weights, bias, inputs, etc..\n",
    "tf.reset_default_graph()\n",
    "\n",
    "# Inputs\n",
    "x = neural_net_image_input((32, 32, 3))\n",
    "y = neural_net_label_input(10)\n",
    "keep_prob = neural_net_keep_prob_input()\n",
    "\n",
    "# Model\n",
    "logits = conv_net(x, keep_prob)\n",
    "\n",
    "# Name logits Tensor, so that is can be loaded from disk after training\n",
    "logits = tf.identity(logits, name='logits')\n",
    "\n",
    "# Loss and Optimizer\n",
    "cost = tf.reduce_mean(tf.nn.softmax_cross_entropy_with_logits(logits=logits, labels=y))\n",
    "optimizer = tf.train.AdamOptimizer().minimize(cost)\n",
    "\n",
    "# Accuracy\n",
    "correct_pred = tf.equal(tf.argmax(logits, 1), tf.argmax(y, 1))\n",
    "accuracy = tf.reduce_mean(tf.cast(correct_pred, tf.float32), name='accuracy')\n",
    "\n",
    "tests.test_conv_net(conv_net)"
   ]
  },
  {
   "cell_type": "markdown",
   "metadata": {},
   "source": [
    "## Train the Neural Network\n",
    "### Single Optimization\n",
    "Implement the function `train_neural_network` to do a single optimization.  The optimization should use `optimizer` to optimize in `session` with a `feed_dict` of the following:\n",
    "* `x` for image input\n",
    "* `y` for labels\n",
    "* `keep_prob` for keep probability for dropout\n",
    "\n",
    "This function will be called for each batch, so `tf.global_variables_initializer()` has already been called.\n",
    "\n",
    "Note: Nothing needs to be returned. This function is only optimizing the neural network."
   ]
  },
  {
   "cell_type": "code",
   "execution_count": 266,
   "metadata": {
    "collapsed": false
   },
   "outputs": [
    {
     "name": "stdout",
     "output_type": "stream",
     "text": [
      "Tests Passed\n"
     ]
    }
   ],
   "source": [
    "def train_neural_network(session, optimizer, keep_probability, feature_batch, label_batch):\n",
    "    \"\"\"\n",
    "    Optimize the session on a batch of images and labels\n",
    "    : session: Current TensorFlow session\n",
    "    : optimizer: TensorFlow optimizer function\n",
    "    : keep_probability: keep probability\n",
    "    : feature_batch: Batch of Numpy image data\n",
    "    : label_batch: Batch of Numpy label data\n",
    "    \"\"\"\n",
    "    # TODO: Implement Function\n",
    "    # Model\n",
    "    # print('inside train_neural_network',feature_batch.shape)\n",
    "    #logits = conv_net(x, weights, biases, keep_prob)\n",
    "    session.run(optimizer,feed_dict={\n",
    "            x : feature_batch,\n",
    "            y : label_batch,\n",
    "            keep_prob : keep_probability\n",
    "        })\n",
    "    #pass\n",
    "\n",
    "\n",
    "\"\"\"\n",
    "DON'T MODIFY ANYTHING IN THIS CELL THAT IS BELOW THIS LINE\n",
    "\"\"\"\n",
    "tests.test_train_nn(train_neural_network)"
   ]
  },
  {
   "cell_type": "markdown",
   "metadata": {},
   "source": [
    "### Show Stats\n",
    "Implement the function `print_stats` to print loss and validation accuracy.  Use the global variables `valid_features` and `valid_labels` to calculate validation accuracy.  Use a keep probability of `1.0` to calculate the loss and validation accuracy."
   ]
  },
  {
   "cell_type": "code",
   "execution_count": 267,
   "metadata": {
    "collapsed": false
   },
   "outputs": [],
   "source": [
    "def print_stats(session, feature_batch, label_batch, cost, accuracy):\n",
    "    \"\"\"\n",
    "    Print information about loss and validation accuracy\n",
    "    : session: Current TensorFlow session\n",
    "    : feature_batch: Batch of Numpy image data\n",
    "    : label_batch: Batch of Numpy label data\n",
    "    : cost: TensorFlow cost function\n",
    "    : accuracy: TensorFlow accuracy function\n",
    "    \"\"\"\n",
    "    loss = session.run(cost,feed_dict={\n",
    "            x: valid_features,\n",
    "            y: valid_labels,\n",
    "            keep_prob: 1.0\n",
    "        })\n",
    "    accuracy = session.run(accuracy, feed_dict={\n",
    "            x: valid_features,\n",
    "            y: valid_labels,\n",
    "            keep_prob: 1.0\n",
    "        })\n",
    "    print('Loss: ', loss)\n",
    "    print('Accuracy', accuracy)\n",
    "    #pass"
   ]
  },
  {
   "cell_type": "markdown",
   "metadata": {},
   "source": [
    "### Hyperparameters\n",
    "Tune the following parameters:\n",
    "* Set `epochs` to the number of iterations until the network stops learning or start overfitting\n",
    "* Set `batch_size` to the highest number that your machine has memory for.  Most people set them to common sizes of memory:\n",
    " * 64\n",
    " * 128\n",
    " * 256\n",
    " * ...\n",
    "* Set `keep_probability` to the probability of keeping a node using dropout"
   ]
  },
  {
   "cell_type": "code",
   "execution_count": 268,
   "metadata": {
    "collapsed": false
   },
   "outputs": [
    {
     "name": "stdout",
     "output_type": "stream",
     "text": [
      "256\n"
     ]
    }
   ],
   "source": [
    "# TODO: Tune Parameters\n",
    "epochs = 30\n",
    "batch_size = 256\n",
    "keep_probability = 1.0\n",
    "print(batch_size)"
   ]
  },
  {
   "cell_type": "markdown",
   "metadata": {},
   "source": [
    "### Train on a Single CIFAR-10 Batch\n",
    "Instead of training the neural network on all the CIFAR-10 batches of data, let's use a single batch. This should save time while you iterate on the model to get a better accuracy.  Once the final validation accuracy is 50% or greater, run the model on all the data in the next section."
   ]
  },
  {
   "cell_type": "code",
   "execution_count": 269,
   "metadata": {
    "collapsed": false
   },
   "outputs": [
    {
     "name": "stdout",
     "output_type": "stream",
     "text": [
      "256\n",
      "Checking the Training on a Single Batch...\n",
      "Epoch  1, CIFAR-10 Batch 1:  Loss:  2.10065\n",
      "Accuracy 0.1914\n",
      "Epoch  2, CIFAR-10 Batch 1:  Loss:  1.87652\n",
      "Accuracy 0.268\n",
      "Epoch  3, CIFAR-10 Batch 1:  Loss:  1.81761\n",
      "Accuracy 0.2966\n",
      "Epoch  4, CIFAR-10 Batch 1:  Loss:  1.76642\n",
      "Accuracy 0.319\n",
      "Epoch  5, CIFAR-10 Batch 1:  Loss:  1.77059\n",
      "Accuracy 0.318\n",
      "Epoch  6, CIFAR-10 Batch 1:  Loss:  1.71269\n",
      "Accuracy 0.338\n",
      "Epoch  7, CIFAR-10 Batch 1:  Loss:  1.69338\n",
      "Accuracy 0.3486\n",
      "Epoch  8, CIFAR-10 Batch 1:  Loss:  1.64962\n",
      "Accuracy 0.3704\n",
      "Epoch  9, CIFAR-10 Batch 1:  Loss:  1.59596\n",
      "Accuracy 0.3958\n",
      "Epoch 10, CIFAR-10 Batch 1:  Loss:  1.56037\n",
      "Accuracy 0.4178\n",
      "Epoch 11, CIFAR-10 Batch 1:  Loss:  1.53005\n",
      "Accuracy 0.4296\n",
      "Epoch 12, CIFAR-10 Batch 1:  Loss:  1.49674\n",
      "Accuracy 0.4534\n",
      "Epoch 13, CIFAR-10 Batch 1:  Loss:  1.4761\n",
      "Accuracy 0.4572\n",
      "Epoch 14, CIFAR-10 Batch 1:  Loss:  1.45549\n",
      "Accuracy 0.4688\n",
      "Epoch 15, CIFAR-10 Batch 1:  Loss:  1.44062\n",
      "Accuracy 0.4722\n",
      "Epoch 16, CIFAR-10 Batch 1:  Loss:  1.42373\n",
      "Accuracy 0.4772\n",
      "Epoch 17, CIFAR-10 Batch 1:  Loss:  1.40798\n",
      "Accuracy 0.4808\n",
      "Epoch 18, CIFAR-10 Batch 1:  Loss:  1.3917\n",
      "Accuracy 0.4872\n",
      "Epoch 19, CIFAR-10 Batch 1:  Loss:  1.38178\n",
      "Accuracy 0.4914\n",
      "Epoch 20, CIFAR-10 Batch 1:  Loss:  1.37424\n",
      "Accuracy 0.4938\n",
      "Epoch 21, CIFAR-10 Batch 1:  Loss:  1.36787\n",
      "Accuracy 0.4962\n",
      "Epoch 22, CIFAR-10 Batch 1:  Loss:  1.36334\n",
      "Accuracy 0.4978\n",
      "Epoch 23, CIFAR-10 Batch 1:  Loss:  1.36302\n",
      "Accuracy 0.5008\n",
      "Epoch 24, CIFAR-10 Batch 1:  Loss:  1.36371\n",
      "Accuracy 0.5036\n",
      "Epoch 25, CIFAR-10 Batch 1:  Loss:  1.37366\n",
      "Accuracy 0.502\n",
      "Epoch 26, CIFAR-10 Batch 1:  Loss:  1.37144\n",
      "Accuracy 0.5056\n",
      "Epoch 27, CIFAR-10 Batch 1:  Loss:  1.30681\n",
      "Accuracy 0.5304\n",
      "Epoch 28, CIFAR-10 Batch 1:  Loss:  1.28452\n",
      "Accuracy 0.5404\n",
      "Epoch 29, CIFAR-10 Batch 1:  Loss:  1.28935\n",
      "Accuracy 0.5352\n",
      "Epoch 30, CIFAR-10 Batch 1:  Loss:  1.29163\n",
      "Accuracy 0.5322\n"
     ]
    }
   ],
   "source": [
    "print(batch_size)\n",
    "\"\"\"\n",
    "DON'T MODIFY ANYTHING IN THIS CELL\n",
    "\"\"\"\n",
    "print('Checking the Training on a Single Batch...')\n",
    "with tf.Session() as sess:\n",
    "    # Initializing the variables\n",
    "    sess.run(tf.global_variables_initializer())\n",
    "    \n",
    "    # Training cycle\n",
    "    for epoch in range(epochs):\n",
    "        batch_i = 1\n",
    "        for batch_features, batch_labels in helper.load_preprocess_training_batch(batch_i, batch_size):\n",
    "            train_neural_network(sess, optimizer, keep_probability, batch_features, batch_labels)\n",
    "        print('Epoch {:>2}, CIFAR-10 Batch {}:  '.format(epoch + 1, batch_i), end='')\n",
    "        print_stats(sess, batch_features, batch_labels, cost, accuracy)"
   ]
  },
  {
   "cell_type": "markdown",
   "metadata": {},
   "source": [
    "### Fully Train the Model\n",
    "Now that you got a good accuracy with a single CIFAR-10 batch, try it with all five batches."
   ]
  },
  {
   "cell_type": "code",
   "execution_count": 270,
   "metadata": {
    "collapsed": false
   },
   "outputs": [
    {
     "name": "stdout",
     "output_type": "stream",
     "text": [
      "Training...\n",
      "Epoch  1, CIFAR-10 Batch 1:  Loss:  2.11482\n",
      "Accuracy 0.1848\n",
      "Epoch  1, CIFAR-10 Batch 2:  Loss:  1.99888\n",
      "Accuracy 0.2512\n",
      "Epoch  1, CIFAR-10 Batch 3:  Loss:  1.89309\n",
      "Accuracy 0.2888\n",
      "Epoch  1, CIFAR-10 Batch 4:  Loss:  1.75147\n",
      "Accuracy 0.3514\n",
      "Epoch  1, CIFAR-10 Batch 5:  Loss:  1.69028\n",
      "Accuracy 0.3742\n",
      "Epoch  2, CIFAR-10 Batch 1:  Loss:  1.66662\n",
      "Accuracy 0.395\n",
      "Epoch  2, CIFAR-10 Batch 2:  Loss:  1.57913\n",
      "Accuracy 0.4096\n",
      "Epoch  2, CIFAR-10 Batch 3:  Loss:  1.66455\n",
      "Accuracy 0.3936\n",
      "Epoch  2, CIFAR-10 Batch 4:  Loss:  1.54303\n",
      "Accuracy 0.431\n",
      "Epoch  2, CIFAR-10 Batch 5:  Loss:  1.49664\n",
      "Accuracy 0.4378\n",
      "Epoch  3, CIFAR-10 Batch 1:  Loss:  1.50215\n",
      "Accuracy 0.4416\n",
      "Epoch  3, CIFAR-10 Batch 2:  Loss:  1.46608\n",
      "Accuracy 0.4528\n",
      "Epoch  3, CIFAR-10 Batch 3:  Loss:  1.54759\n",
      "Accuracy 0.4286\n",
      "Epoch  3, CIFAR-10 Batch 4:  Loss:  1.43868\n",
      "Accuracy 0.4742\n",
      "Epoch  3, CIFAR-10 Batch 5:  Loss:  1.39513\n",
      "Accuracy 0.4862\n",
      "Epoch  4, CIFAR-10 Batch 1:  Loss:  1.38618\n",
      "Accuracy 0.494\n",
      "Epoch  4, CIFAR-10 Batch 2:  Loss:  1.3615\n",
      "Accuracy 0.5018\n",
      "Epoch  4, CIFAR-10 Batch 3:  Loss:  1.46255\n",
      "Accuracy 0.4612\n",
      "Epoch  4, CIFAR-10 Batch 4:  Loss:  1.34781\n",
      "Accuracy 0.5094\n",
      "Epoch  4, CIFAR-10 Batch 5:  Loss:  1.3306\n",
      "Accuracy 0.5126\n",
      "Epoch  5, CIFAR-10 Batch 1:  Loss:  1.32447\n",
      "Accuracy 0.5236\n",
      "Epoch  5, CIFAR-10 Batch 2:  Loss:  1.2784\n",
      "Accuracy 0.5346\n",
      "Epoch  5, CIFAR-10 Batch 3:  Loss:  1.34855\n",
      "Accuracy 0.5026\n",
      "Epoch  5, CIFAR-10 Batch 4:  Loss:  1.27951\n",
      "Accuracy 0.5354\n",
      "Epoch  5, CIFAR-10 Batch 5:  Loss:  1.26883\n",
      "Accuracy 0.5306\n",
      "Epoch  6, CIFAR-10 Batch 1:  Loss:  1.25959\n",
      "Accuracy 0.5432\n",
      "Epoch  6, CIFAR-10 Batch 2:  Loss:  1.23045\n",
      "Accuracy 0.5542\n",
      "Epoch  6, CIFAR-10 Batch 3:  Loss:  1.25501\n",
      "Accuracy 0.5352\n",
      "Epoch  6, CIFAR-10 Batch 4:  Loss:  1.25152\n",
      "Accuracy 0.5434\n",
      "Epoch  6, CIFAR-10 Batch 5:  Loss:  1.20997\n",
      "Accuracy 0.562\n",
      "Epoch  7, CIFAR-10 Batch 1:  Loss:  1.19365\n",
      "Accuracy 0.5684\n",
      "Epoch  7, CIFAR-10 Batch 2:  Loss:  1.18829\n",
      "Accuracy 0.5738\n",
      "Epoch  7, CIFAR-10 Batch 3:  Loss:  1.19644\n",
      "Accuracy 0.5586\n",
      "Epoch  7, CIFAR-10 Batch 4:  Loss:  1.21258\n",
      "Accuracy 0.5648\n",
      "Epoch  7, CIFAR-10 Batch 5:  Loss:  1.16078\n",
      "Accuracy 0.5824\n",
      "Epoch  8, CIFAR-10 Batch 1:  Loss:  1.15813\n",
      "Accuracy 0.581\n",
      "Epoch  8, CIFAR-10 Batch 2:  Loss:  1.13128\n",
      "Accuracy 0.595\n",
      "Epoch  8, CIFAR-10 Batch 3:  Loss:  1.14822\n",
      "Accuracy 0.5768\n",
      "Epoch  8, CIFAR-10 Batch 4:  Loss:  1.17732\n",
      "Accuracy 0.575\n",
      "Epoch  8, CIFAR-10 Batch 5:  Loss:  1.13147\n",
      "Accuracy 0.5962\n",
      "Epoch  9, CIFAR-10 Batch 1:  Loss:  1.12808\n",
      "Accuracy 0.5948\n",
      "Epoch  9, CIFAR-10 Batch 2:  Loss:  1.09612\n",
      "Accuracy 0.6092\n",
      "Epoch  9, CIFAR-10 Batch 3:  Loss:  1.10391\n",
      "Accuracy 0.6026\n",
      "Epoch  9, CIFAR-10 Batch 4:  Loss:  1.1276\n",
      "Accuracy 0.5944\n",
      "Epoch  9, CIFAR-10 Batch 5:  Loss:  1.11038\n",
      "Accuracy 0.6096\n",
      "Epoch 10, CIFAR-10 Batch 1:  Loss:  1.09996\n",
      "Accuracy 0.6102\n",
      "Epoch 10, CIFAR-10 Batch 2:  Loss:  1.07251\n",
      "Accuracy 0.6174\n",
      "Epoch 10, CIFAR-10 Batch 3:  Loss:  1.08179\n",
      "Accuracy 0.6106\n",
      "Epoch 10, CIFAR-10 Batch 4:  Loss:  1.08787\n",
      "Accuracy 0.6122\n",
      "Epoch 10, CIFAR-10 Batch 5:  Loss:  1.10679\n",
      "Accuracy 0.6108\n",
      "Epoch 11, CIFAR-10 Batch 1:  Loss:  1.07955\n",
      "Accuracy 0.6162\n",
      "Epoch 11, CIFAR-10 Batch 2:  Loss:  1.05463\n",
      "Accuracy 0.6266\n",
      "Epoch 11, CIFAR-10 Batch 3:  Loss:  1.06015\n",
      "Accuracy 0.6254\n",
      "Epoch 11, CIFAR-10 Batch 4:  Loss:  1.06354\n",
      "Accuracy 0.6248\n",
      "Epoch 11, CIFAR-10 Batch 5:  Loss:  1.08954\n",
      "Accuracy 0.6164\n",
      "Epoch 12, CIFAR-10 Batch 1:  Loss:  1.05137\n",
      "Accuracy 0.631\n",
      "Epoch 12, CIFAR-10 Batch 2:  Loss:  1.03516\n",
      "Accuracy 0.6352\n",
      "Epoch 12, CIFAR-10 Batch 3:  Loss:  1.03453\n",
      "Accuracy 0.6366\n",
      "Epoch 12, CIFAR-10 Batch 4:  Loss:  1.04348\n",
      "Accuracy 0.6326\n",
      "Epoch 12, CIFAR-10 Batch 5:  Loss:  1.03956\n",
      "Accuracy 0.633\n",
      "Epoch 13, CIFAR-10 Batch 1:  Loss:  1.02831\n",
      "Accuracy 0.6376\n",
      "Epoch 13, CIFAR-10 Batch 2:  Loss:  1.01314\n",
      "Accuracy 0.6448\n",
      "Epoch 13, CIFAR-10 Batch 3:  Loss:  1.00715\n",
      "Accuracy 0.645\n",
      "Epoch 13, CIFAR-10 Batch 4:  Loss:  1.01677\n",
      "Accuracy 0.641\n",
      "Epoch 13, CIFAR-10 Batch 5:  Loss:  1.02563\n",
      "Accuracy 0.64\n",
      "Epoch 14, CIFAR-10 Batch 1:  Loss:  1.02366\n",
      "Accuracy 0.6446\n",
      "Epoch 14, CIFAR-10 Batch 2:  Loss:  1.00988\n",
      "Accuracy 0.6468\n",
      "Epoch 14, CIFAR-10 Batch 3:  Loss:  1.01243\n",
      "Accuracy 0.6432\n",
      "Epoch 14, CIFAR-10 Batch 4:  Loss:  0.989118\n",
      "Accuracy 0.6502\n",
      "Epoch 14, CIFAR-10 Batch 5:  Loss:  1.03631\n",
      "Accuracy 0.6376\n",
      "Epoch 15, CIFAR-10 Batch 1:  Loss:  1.01527\n",
      "Accuracy 0.6486\n",
      "Epoch 15, CIFAR-10 Batch 2:  Loss:  0.998048\n",
      "Accuracy 0.6504\n",
      "Epoch 15, CIFAR-10 Batch 3:  Loss:  1.01776\n",
      "Accuracy 0.6376\n",
      "Epoch 15, CIFAR-10 Batch 4:  Loss:  0.974638\n",
      "Accuracy 0.6626\n",
      "Epoch 15, CIFAR-10 Batch 5:  Loss:  1.01998\n",
      "Accuracy 0.6456\n",
      "Epoch 16, CIFAR-10 Batch 1:  Loss:  0.999777\n",
      "Accuracy 0.6526\n",
      "Epoch 16, CIFAR-10 Batch 2:  Loss:  0.992675\n",
      "Accuracy 0.6526\n",
      "Epoch 16, CIFAR-10 Batch 3:  Loss:  0.995067\n",
      "Accuracy 0.6476\n",
      "Epoch 16, CIFAR-10 Batch 4:  Loss:  0.962785\n",
      "Accuracy 0.6688\n",
      "Epoch 16, CIFAR-10 Batch 5:  Loss:  0.992521\n",
      "Accuracy 0.6564\n",
      "Epoch 17, CIFAR-10 Batch 1:  Loss:  0.983407\n",
      "Accuracy 0.6632\n",
      "Epoch 17, CIFAR-10 Batch 2:  Loss:  0.987156\n",
      "Accuracy 0.657\n",
      "Epoch 17, CIFAR-10 Batch 3:  Loss:  0.977628\n",
      "Accuracy 0.6556\n",
      "Epoch 17, CIFAR-10 Batch 4:  Loss:  0.967591\n",
      "Accuracy 0.6696\n",
      "Epoch 17, CIFAR-10 Batch 5:  Loss:  0.991045\n",
      "Accuracy 0.66\n",
      "Epoch 18, CIFAR-10 Batch 1:  Loss:  0.96666\n",
      "Accuracy 0.6666\n",
      "Epoch 18, CIFAR-10 Batch 2:  Loss:  0.980905\n",
      "Accuracy 0.656\n",
      "Epoch 18, CIFAR-10 Batch 3:  Loss:  0.984137\n",
      "Accuracy 0.651\n",
      "Epoch 18, CIFAR-10 Batch 4:  Loss:  0.947261\n",
      "Accuracy 0.6706\n",
      "Epoch 18, CIFAR-10 Batch 5:  Loss:  1.01138\n",
      "Accuracy 0.6502\n",
      "Epoch 19, CIFAR-10 Batch 1:  Loss:  0.95185\n",
      "Accuracy 0.6662\n",
      "Epoch 19, CIFAR-10 Batch 2:  Loss:  0.974079\n",
      "Accuracy 0.66\n",
      "Epoch 19, CIFAR-10 Batch 3:  Loss:  1.01783\n",
      "Accuracy 0.6392\n",
      "Epoch 19, CIFAR-10 Batch 4:  Loss:  0.939209\n",
      "Accuracy 0.6748\n",
      "Epoch 19, CIFAR-10 Batch 5:  Loss:  1.01356\n",
      "Accuracy 0.6554\n",
      "Epoch 20, CIFAR-10 Batch 1:  Loss:  0.949772\n",
      "Accuracy 0.6704\n",
      "Epoch 20, CIFAR-10 Batch 2:  Loss:  0.962892\n",
      "Accuracy 0.6636\n",
      "Epoch 20, CIFAR-10 Batch 3:  Loss:  0.992328\n",
      "Accuracy 0.6546\n",
      "Epoch 20, CIFAR-10 Batch 4:  Loss:  0.942893\n",
      "Accuracy 0.679\n",
      "Epoch 20, CIFAR-10 Batch 5:  Loss:  1.02292\n",
      "Accuracy 0.6568\n",
      "Epoch 21, CIFAR-10 Batch 1:  Loss:  0.949729\n",
      "Accuracy 0.6738\n",
      "Epoch 21, CIFAR-10 Batch 2:  Loss:  0.941988\n",
      "Accuracy 0.6778\n",
      "Epoch 21, CIFAR-10 Batch 3:  Loss:  0.971622\n",
      "Accuracy 0.6632\n",
      "Epoch 21, CIFAR-10 Batch 4:  Loss:  0.946788\n",
      "Accuracy 0.6782\n",
      "Epoch 21, CIFAR-10 Batch 5:  Loss:  1.01801\n",
      "Accuracy 0.6592\n",
      "Epoch 22, CIFAR-10 Batch 1:  Loss:  0.949127\n",
      "Accuracy 0.6738\n",
      "Epoch 22, CIFAR-10 Batch 2:  Loss:  0.941678\n",
      "Accuracy 0.677\n",
      "Epoch 22, CIFAR-10 Batch 3:  Loss:  0.961427\n",
      "Accuracy 0.6724\n",
      "Epoch 22, CIFAR-10 Batch 4:  Loss:  0.955837\n",
      "Accuracy 0.6804\n",
      "Epoch 22, CIFAR-10 Batch 5:  Loss:  1.00374\n",
      "Accuracy 0.6644\n",
      "Epoch 23, CIFAR-10 Batch 1:  Loss:  0.951625\n",
      "Accuracy 0.6716\n",
      "Epoch 23, CIFAR-10 Batch 2:  Loss:  0.947626\n",
      "Accuracy 0.6812\n",
      "Epoch 23, CIFAR-10 Batch 3:  Loss:  0.960989\n",
      "Accuracy 0.6718\n",
      "Epoch 23, CIFAR-10 Batch 4:  Loss:  0.961487\n",
      "Accuracy 0.6818\n",
      "Epoch 23, CIFAR-10 Batch 5:  Loss:  0.996535\n",
      "Accuracy 0.6702\n",
      "Epoch 24, CIFAR-10 Batch 1:  Loss:  0.947374\n",
      "Accuracy 0.6774\n",
      "Epoch 24, CIFAR-10 Batch 2:  Loss:  0.962069\n",
      "Accuracy 0.6806\n",
      "Epoch 24, CIFAR-10 Batch 3:  Loss:  0.960588\n",
      "Accuracy 0.6746\n",
      "Epoch 24, CIFAR-10 Batch 4:  Loss:  0.975818\n",
      "Accuracy 0.6788\n",
      "Epoch 24, CIFAR-10 Batch 5:  Loss:  0.980535\n",
      "Accuracy 0.6782\n",
      "Epoch 25, CIFAR-10 Batch 1:  Loss:  0.952747\n",
      "Accuracy 0.6736\n",
      "Epoch 25, CIFAR-10 Batch 2:  Loss:  0.965103\n",
      "Accuracy 0.6828\n",
      "Epoch 25, CIFAR-10 Batch 3:  Loss:  0.973984\n",
      "Accuracy 0.6784\n",
      "Epoch 25, CIFAR-10 Batch 4:  Loss:  0.989502\n",
      "Accuracy 0.678\n",
      "Epoch 25, CIFAR-10 Batch 5:  Loss:  0.980255\n",
      "Accuracy 0.6816\n",
      "Epoch 26, CIFAR-10 Batch 1:  Loss:  0.958517\n",
      "Accuracy 0.6778\n",
      "Epoch 26, CIFAR-10 Batch 2:  Loss:  0.968459\n",
      "Accuracy 0.6788\n",
      "Epoch 26, CIFAR-10 Batch 3:  Loss:  0.994145\n",
      "Accuracy 0.6746\n",
      "Epoch 26, CIFAR-10 Batch 4:  Loss:  1.00531\n",
      "Accuracy 0.6752\n",
      "Epoch 26, CIFAR-10 Batch 5:  Loss:  0.980542\n",
      "Accuracy 0.681\n",
      "Epoch 27, CIFAR-10 Batch 1:  Loss:  0.982836\n",
      "Accuracy 0.673\n",
      "Epoch 27, CIFAR-10 Batch 2:  Loss:  1.00342\n",
      "Accuracy 0.6726\n",
      "Epoch 27, CIFAR-10 Batch 3:  Loss:  1.02423\n",
      "Accuracy 0.663\n",
      "Epoch 27, CIFAR-10 Batch 4:  Loss:  1.04273\n",
      "Accuracy 0.6656\n",
      "Epoch 27, CIFAR-10 Batch 5:  Loss:  0.993329\n",
      "Accuracy 0.6804\n",
      "Epoch 28, CIFAR-10 Batch 1:  Loss:  1.02993\n",
      "Accuracy 0.67\n",
      "Epoch 28, CIFAR-10 Batch 2:  Loss:  1.03535\n",
      "Accuracy 0.6656\n",
      "Epoch 28, CIFAR-10 Batch 3:  Loss:  1.0259\n",
      "Accuracy 0.6674\n",
      "Epoch 28, CIFAR-10 Batch 4:  Loss:  1.04565\n",
      "Accuracy 0.6612\n",
      "Epoch 28, CIFAR-10 Batch 5:  Loss:  1.04177\n",
      "Accuracy 0.6648\n",
      "Epoch 29, CIFAR-10 Batch 1:  Loss:  1.02941\n",
      "Accuracy 0.6662\n",
      "Epoch 29, CIFAR-10 Batch 2:  Loss:  1.06644\n",
      "Accuracy 0.666\n",
      "Epoch 29, CIFAR-10 Batch 3:  Loss:  1.02847\n",
      "Accuracy 0.665\n",
      "Epoch 29, CIFAR-10 Batch 4:  Loss:  1.0072\n",
      "Accuracy 0.6782\n",
      "Epoch 29, CIFAR-10 Batch 5:  Loss:  1.03937\n",
      "Accuracy 0.6668\n",
      "Epoch 30, CIFAR-10 Batch 1:  Loss:  1.04216\n",
      "Accuracy 0.6744\n",
      "Epoch 30, CIFAR-10 Batch 2:  Loss:  1.09827\n",
      "Accuracy 0.6548\n",
      "Epoch 30, CIFAR-10 Batch 3:  Loss:  1.04207\n",
      "Accuracy 0.665\n",
      "Epoch 30, CIFAR-10 Batch 4:  Loss:  1.04642\n",
      "Accuracy 0.6736\n",
      "Epoch 30, CIFAR-10 Batch 5:  Loss:  1.08078\n",
      "Accuracy 0.6562\n"
     ]
    }
   ],
   "source": [
    "\"\"\"\n",
    "DON'T MODIFY ANYTHING IN THIS CELL\n",
    "\"\"\"\n",
    "save_model_path = './image_classification'\n",
    "\n",
    "print('Training...')\n",
    "with tf.Session() as sess:\n",
    "    # Initializing the variables\n",
    "    sess.run(tf.global_variables_initializer())\n",
    "    \n",
    "    # Training cycle\n",
    "    for epoch in range(epochs):\n",
    "        # Loop over all batches\n",
    "        n_batches = 5\n",
    "        for batch_i in range(1, n_batches + 1):\n",
    "            for batch_features, batch_labels in helper.load_preprocess_training_batch(batch_i, batch_size):\n",
    "                train_neural_network(sess, optimizer, keep_probability, batch_features, batch_labels)\n",
    "            print('Epoch {:>2}, CIFAR-10 Batch {}:  '.format(epoch + 1, batch_i), end='')\n",
    "            print_stats(sess, batch_features, batch_labels, cost, accuracy)\n",
    "            \n",
    "    # Save Model\n",
    "    saver = tf.train.Saver()\n",
    "    save_path = saver.save(sess, save_model_path)"
   ]
  },
  {
   "cell_type": "markdown",
   "metadata": {},
   "source": [
    "# Checkpoint\n",
    "The model has been saved to disk.\n",
    "## Test Model\n",
    "Test your model against the test dataset.  This will be your final accuracy. You should have an accuracy greater than 50%. If you don't, keep tweaking the model architecture and parameters."
   ]
  },
  {
   "cell_type": "code",
   "execution_count": 271,
   "metadata": {
    "collapsed": false
   },
   "outputs": [
    {
     "name": "stdout",
     "output_type": "stream",
     "text": [
      "INFO:tensorflow:Restoring parameters from ./image_classification\n",
      "Testing Accuracy: 0.66181640625\n",
      "\n"
     ]
    },
    {
     "data": {
      "image/png": "[encoded data removed]",
      "text/plain": [
       "<matplotlib.figure.Figure at 0x7e00cd9668>"
      ]
     },
     "metadata": {
      "image/png": {
       "height": 319,
       "width": 355
      }
     },
     "output_type": "display_data"
    }
   ],
   "source": [
    "\"\"\"\n",
    "DON'T MODIFY ANYTHING IN THIS CELL\n",
    "\"\"\"\n",
    "%matplotlib inline\n",
    "%config InlineBackend.figure_format = 'retina'\n",
    "\n",
    "import tensorflow as tf\n",
    "import pickle\n",
    "import helper\n",
    "import random\n",
    "\n",
    "# Set batch size if not already set\n",
    "try:\n",
    "    if batch_size:\n",
    "        pass\n",
    "except NameError:\n",
    "    batch_size = 64\n",
    "\n",
    "save_model_path = './image_classification'\n",
    "n_samples = 4\n",
    "top_n_predictions = 3\n",
    "\n",
    "def test_model():\n",
    "    \"\"\"\n",
    "    Test the saved model against the test dataset\n",
    "    \"\"\"\n",
    "\n",
    "    test_features, test_labels = pickle.load(open('preprocess_test.p', mode='rb'))\n",
    "    loaded_graph = tf.Graph()\n",
    "\n",
    "    with tf.Session(graph=loaded_graph) as sess:\n",
    "        # Load model\n",
    "        loader = tf.train.import_meta_graph(save_model_path + '.meta')\n",
    "        loader.restore(sess, save_model_path)\n",
    "\n",
    "        # Get Tensors from loaded model\n",
    "        loaded_x = loaded_graph.get_tensor_by_name('x:0')\n",
    "        loaded_y = loaded_graph.get_tensor_by_name('y:0')\n",
    "        loaded_keep_prob = loaded_graph.get_tensor_by_name('keep_prob:0')\n",
    "        loaded_logits = loaded_graph.get_tensor_by_name('logits:0')\n",
    "        loaded_acc = loaded_graph.get_tensor_by_name('accuracy:0')\n",
    "        \n",
    "        # Get accuracy in batches for memory limitations\n",
    "        test_batch_acc_total = 0\n",
    "        test_batch_count = 0\n",
    "        \n",
    "        for test_feature_batch, test_label_batch in helper.batch_features_labels(test_features, test_labels, batch_size):\n",
    "            test_batch_acc_total += sess.run(\n",
    "                loaded_acc,\n",
    "                feed_dict={loaded_x: test_feature_batch, loaded_y: test_label_batch, loaded_keep_prob: 1.0})\n",
    "            test_batch_count += 1\n",
    "\n",
    "        print('Testing Accuracy: {}\\n'.format(test_batch_acc_total/test_batch_count))\n",
    "\n",
    "        # Print Random Samples\n",
    "        random_test_features, random_test_labels = tuple(zip(*random.sample(list(zip(test_features, test_labels)), n_samples)))\n",
    "        random_test_predictions = sess.run(\n",
    "            tf.nn.top_k(tf.nn.softmax(loaded_logits), top_n_predictions),\n",
    "            feed_dict={loaded_x: random_test_features, loaded_y: random_test_labels, loaded_keep_prob: 1.0})\n",
    "        helper.display_image_predictions(random_test_features, random_test_labels, random_test_predictions)\n",
    "\n",
    "\n",
    "test_model()"
   ]
  },
  {
   "cell_type": "markdown",
   "metadata": {},
   "source": [
    "## Why 50-80% Accuracy?\n",
    "You might be wondering why you can't get an accuracy any higher. First things first, 50% isn't bad for a simple CNN.  Pure guessing would get you 10% accuracy. However, you might notice people are getting scores [well above 80%](http://rodrigob.github.io/are_we_there_yet/build/classification_datasets_results.html#43494641522d3130).  That's because we haven't taught you all there is to know about neural networks. We still need to cover a few more techniques.\n",
    "## Submitting This Project\n",
    "When submitting this project, make sure to run all the cells before saving the notebook.  Save the notebook file as \"dlnd_image_classification.ipynb\" and save it as a HTML file under \"File\" -> \"Download as\".  Include the \"helper.py\" and \"problem_unittests.py\" files in your submission."
   ]
  }
 ],
 "metadata": {
  "anaconda-cloud": {},
  "kernelspec": {
   "display_name": "Python [default]",
   "language": "python",
   "name": "python3"
  },
  "language_info": {
   "codemirror_mode": {
    "name": "ipython",
    "version": 3
   },
   "file_extension": ".py",
   "mimetype": "text/x-python",
   "name": "python",
   "nbconvert_exporter": "python",
   "pygments_lexer": "ipython3",
   "version": "3.5.2"
  }
 },
 "nbformat": 4,
 "nbformat_minor": 0
}
